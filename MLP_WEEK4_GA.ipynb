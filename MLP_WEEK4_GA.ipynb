{
  "nbformat": 4,
  "nbformat_minor": 0,
  "metadata": {
    "colab": {
      "provenance": [],
      "authorship_tag": "ABX9TyPdATI1JrHRBas6BqoliZLm",
      "include_colab_link": true
    },
    "kernelspec": {
      "name": "python3",
      "display_name": "Python 3"
    },
    "language_info": {
      "name": "python"
    }
  },
  "cells": [
    {
      "cell_type": "markdown",
      "metadata": {
        "id": "view-in-github",
        "colab_type": "text"
      },
      "source": [
        "<a href=\"https://colab.research.google.com/github/mrv7777/MLP/blob/main/MLP_WEEK4_GA.ipynb\" target=\"_parent\"><img src=\"https://colab.research.google.com/assets/colab-badge.svg\" alt=\"Open In Colab\"/></a>"
      ]
    },
    {
      "cell_type": "code",
      "execution_count": 1,
      "metadata": {
        "colab": {
          "base_uri": "https://localhost:8080/"
        },
        "collapsed": true,
        "id": "89lDPNrxFsfP",
        "outputId": "2beed135-4385-413b-eb75-8b7d13b5f6c5"
      },
      "outputs": [
        {
          "output_type": "stream",
          "name": "stdout",
          "text": [
            "Collecting scikit-learn==1.2.2\n",
            "  Downloading scikit_learn-1.2.2-cp311-cp311-manylinux_2_17_x86_64.manylinux2014_x86_64.whl.metadata (11 kB)\n",
            "Requirement already satisfied: numpy>=1.17.3 in /usr/local/lib/python3.11/dist-packages (from scikit-learn==1.2.2) (1.26.4)\n",
            "Requirement already satisfied: scipy>=1.3.2 in /usr/local/lib/python3.11/dist-packages (from scikit-learn==1.2.2) (1.13.1)\n",
            "Requirement already satisfied: joblib>=1.1.1 in /usr/local/lib/python3.11/dist-packages (from scikit-learn==1.2.2) (1.4.2)\n",
            "Requirement already satisfied: threadpoolctl>=2.0.0 in /usr/local/lib/python3.11/dist-packages (from scikit-learn==1.2.2) (3.5.0)\n",
            "Downloading scikit_learn-1.2.2-cp311-cp311-manylinux_2_17_x86_64.manylinux2014_x86_64.whl (9.6 MB)\n",
            "\u001b[2K   \u001b[90m━━━━━━━━━━━━━━━━━━━━━━━━━━━━━━━━━━━━━━━━\u001b[0m \u001b[32m9.6/9.6 MB\u001b[0m \u001b[31m26.6 MB/s\u001b[0m eta \u001b[36m0:00:00\u001b[0m\n",
            "\u001b[?25hInstalling collected packages: scikit-learn\n",
            "  Attempting uninstall: scikit-learn\n",
            "    Found existing installation: scikit-learn 1.6.1\n",
            "    Uninstalling scikit-learn-1.6.1:\n",
            "      Successfully uninstalled scikit-learn-1.6.1\n",
            "\u001b[31mERROR: pip's dependency resolver does not currently take into account all the packages that are installed. This behaviour is the source of the following dependency conflicts.\n",
            "mlxtend 0.23.4 requires scikit-learn>=1.3.1, but you have scikit-learn 1.2.2 which is incompatible.\n",
            "imbalanced-learn 0.13.0 requires scikit-learn<2,>=1.3.2, but you have scikit-learn 1.2.2 which is incompatible.\u001b[0m\u001b[31m\n",
            "\u001b[0mSuccessfully installed scikit-learn-1.2.2\n"
          ]
        }
      ],
      "source": [
        "!pip install scikit-learn==1.2.2\n",
        "import sklearn"
      ]
    },
    {
      "cell_type": "code",
      "source": [
        "sklearn.__version__"
      ],
      "metadata": {
        "colab": {
          "base_uri": "https://localhost:8080/",
          "height": 35
        },
        "id": "dljA6dp1GipK",
        "outputId": "379b8622-bf4d-4af1-93ec-1f0beabf8cc6"
      },
      "execution_count": 2,
      "outputs": [
        {
          "output_type": "execute_result",
          "data": {
            "text/plain": [
              "'1.2.2'"
            ],
            "application/vnd.google.colaboratory.intrinsic+json": {
              "type": "string"
            }
          },
          "metadata": {},
          "execution_count": 2
        }
      ]
    },
    {
      "cell_type": "code",
      "source": [
        "import pandas as ps\n",
        "import numpy as np\n",
        "import matplotlib.pyplot as plt\n",
        "import seaborn as sns\n",
        "\n",
        "from sklearn.datasets import fetch_california_housing\n",
        "from sklearn.model_selection import train_test_split\n",
        "from sklearn.linear_model import LinearRegression\n",
        "from sklearn.metrics import mean_squared_error, mean_absolute_error,max_error,explained_variance_score,r2_score,mean_squared_error\n",
        "from sklearn.preprocessing import StandardScaler\n",
        "from sklearn.pipeline import Pipeline\n",
        "from sklearn.linear_model import SGDRegressor"
      ],
      "metadata": {
        "id": "d5L3h-LqJJrP"
      },
      "execution_count": 42,
      "outputs": []
    },
    {
      "cell_type": "code",
      "source": [
        "X,y = fetch_california_housing(return_X_y=True, as_frame=True)"
      ],
      "metadata": {
        "id": "OORR0N26Khvi"
      },
      "execution_count": 4,
      "outputs": []
    },
    {
      "cell_type": "markdown",
      "source": [
        "**1- If we use StandardScaler for preprocessing and LinearRegression for fitting the model with training set obtained from following code snippet:\n",
        "X_train,X_test,y_train,y_test= train_test_split(X,y, test_size=0.2, shuffle=False, random_state=0)\n",
        "Assume that (X,y) is the california housing dataset.\n",
        "What is the R squared value for predictions obtained using test set features?**\n",
        "\n",
        "   **Note: Use methods and objects with default parameters**"
      ],
      "metadata": {
        "id": "d5nzd8LpJ2FS"
      }
    },
    {
      "cell_type": "code",
      "source": [
        "linear_reg = Pipeline([\n",
        "                       ('scaler', StandardScaler()),\n",
        "                      ('reg', LinearRegression())\n",
        "                      ])\n",
        "X_train,X_test,y_train,y_test= train_test_split(X,y, test_size=0.2, shuffle=False, random_state=0)\n",
        "linear_reg.fit(X_train, y_train)\n",
        "y_pred = linear_reg.predict(X_test)\n",
        "r2_score = linear_reg.score(X_test, y_test)\n",
        "print(r2_score)\n"
      ],
      "metadata": {
        "colab": {
          "base_uri": "https://localhost:8080/"
        },
        "id": "lrEs2fhPJ08p",
        "outputId": "60118aa7-244d-4b86-b2e4-776ed04faa13"
      },
      "execution_count": 32,
      "outputs": [
        {
          "output_type": "stream",
          "name": "stdout",
          "text": [
            "0.6605140591531993\n"
          ]
        }
      ]
    },
    {
      "cell_type": "markdown",
      "source": [
        "**2- If we use StandardScaler for preprocessing and LinearRegression for fitting the model, what is the root mean squared error value for predictions obtained using test set features?**\n",
        "\n",
        "   **Note: Use methods and objects with default parameters**"
      ],
      "metadata": {
        "id": "R9EjH7JtNjE8"
      }
    },
    {
      "cell_type": "code",
      "source": [
        "mean_s_error = mean_squared_error(y_test, y_pred, squared=False)\n",
        "print(mean_s_error)"
      ],
      "metadata": {
        "colab": {
          "base_uri": "https://localhost:8080/"
        },
        "id": "_LioG-CYNimK",
        "outputId": "562b520c-7b16-4114-841b-251bf05f19d3"
      },
      "execution_count": 31,
      "outputs": [
        {
          "output_type": "stream",
          "name": "stdout",
          "text": [
            "0.7033383507521878\n"
          ]
        }
      ]
    },
    {
      "cell_type": "markdown",
      "source": [
        "**Instructions for next ques from Que 3 to 8**\n",
        "\n",
        "**Split the data into training and test sets with random_state=0, shuffle=False and test_size=0.2 parameters.**\n",
        "\n",
        "**Let, y_test= target label in test set of california housing dataset**\n",
        "\n",
        "**and y_pred=target labels obtained by the model using X_test**\n",
        "\n",
        "**Then compute values of the following evaluation metrics**"
      ],
      "metadata": {
        "id": "wG0rCF3VOYya"
      }
    },
    {
      "cell_type": "markdown",
      "source": [
        "**3- Explained Variance score**"
      ],
      "metadata": {
        "id": "Fkncgs_9OmVu"
      }
    },
    {
      "cell_type": "code",
      "source": [
        "variance_score = explained_variance_score(y_test, y_pred)\n",
        "print(variance_score)"
      ],
      "metadata": {
        "colab": {
          "base_uri": "https://localhost:8080/"
        },
        "id": "HfwEZ5R9QYOE",
        "outputId": "9cfba157-3ebc-451c-8b32-202e82bf712d"
      },
      "execution_count": 43,
      "outputs": [
        {
          "output_type": "stream",
          "name": "stdout",
          "text": [
            "0.6605500501742703\n"
          ]
        }
      ]
    },
    {
      "cell_type": "markdown",
      "source": [
        "**4- Max Error**"
      ],
      "metadata": {
        "id": "1TmwW53gQtO4"
      }
    },
    {
      "cell_type": "code",
      "source": [
        "mx_score = max_error(y_test, y_pred)\n",
        "print(mx_score)"
      ],
      "metadata": {
        "colab": {
          "base_uri": "https://localhost:8080/"
        },
        "id": "j6aOvFJrQ4cv",
        "outputId": "aea4723d-68a2-48c6-e97a-8a1864b3cf7c"
      },
      "execution_count": 44,
      "outputs": [
        {
          "output_type": "stream",
          "name": "stdout",
          "text": [
            "7.260453292958372\n"
          ]
        }
      ]
    },
    {
      "cell_type": "markdown",
      "source": [
        "**5- Mean Absolute Error**"
      ],
      "metadata": {
        "id": "6Oj_oLbARIL6"
      }
    },
    {
      "cell_type": "code",
      "source": [
        "mean_abs_error = mean_absolute_error(y_test, y_pred)\n",
        "print(mean_abs_error)"
      ],
      "metadata": {
        "colab": {
          "base_uri": "https://localhost:8080/"
        },
        "id": "Dqoeim0KR5yc",
        "outputId": "74995ffb-b142-4f8c-ccec-d53dd0d6287d"
      },
      "execution_count": 45,
      "outputs": [
        {
          "output_type": "stream",
          "name": "stdout",
          "text": [
            "0.5168526993787042\n"
          ]
        }
      ]
    },
    {
      "cell_type": "markdown",
      "source": [
        "**6- Mean Squared Error**"
      ],
      "metadata": {
        "id": "TlTmNnA7SBcB"
      }
    },
    {
      "cell_type": "code",
      "source": [
        "m_r_score = mean_squared_error(y_test, y_pred, squared=True)\n",
        "print(m_r_score)"
      ],
      "metadata": {
        "colab": {
          "base_uri": "https://localhost:8080/"
        },
        "id": "c1zOKZudSHPI",
        "outputId": "7364c7f3-b8e0-40a8-8e55-704221fb15b6"
      },
      "execution_count": 46,
      "outputs": [
        {
          "output_type": "stream",
          "name": "stdout",
          "text": [
            "0.4946848356388075\n"
          ]
        }
      ]
    },
    {
      "cell_type": "markdown",
      "source": [
        "**Instructions: for Ques 7 to 8, perform SGD Regression on the given (scaled using StandardScalar()) dataset, using default hyperparameters and random_state=0.**"
      ],
      "metadata": {
        "id": "rePRfATSamGI"
      }
    },
    {
      "cell_type": "markdown",
      "source": [
        "**7- What is the bias term?**"
      ],
      "metadata": {
        "id": "eimrAgM4aqTW"
      }
    },
    {
      "cell_type": "code",
      "source": [
        "sgd_reg = Pipeline([\n",
        "                       ('scaler', StandardScaler()),\n",
        "                      ('reg', SGDRegressor(random_state=0))\n",
        "                      ])\n",
        "X_train,X_test,y_train,y_test= train_test_split(X,y, test_size=0.2, shuffle=False, random_state=0)\n",
        "sgd_reg.fit(X_train, y_train)\n",
        "sgd_reg[-1].intercept_"
      ],
      "metadata": {
        "colab": {
          "base_uri": "https://localhost:8080/"
        },
        "id": "5XyM_Q47avSa",
        "outputId": "d1d75068-bdfe-4f02-87ba-ea549f293231"
      },
      "execution_count": 50,
      "outputs": [
        {
          "output_type": "execute_result",
          "data": {
            "text/plain": [
              "array([2.01123921])"
            ]
          },
          "metadata": {},
          "execution_count": 50
        }
      ]
    },
    {
      "cell_type": "markdown",
      "source": [
        "**8- What is the bias term?**"
      ],
      "metadata": {
        "id": "swpmF2igb856"
      }
    },
    {
      "cell_type": "code",
      "source": [
        "sgd_reg[-1].coef_"
      ],
      "metadata": {
        "colab": {
          "base_uri": "https://localhost:8080/"
        },
        "id": "2rpdcZJIb46y",
        "outputId": "1723f61d-0eca-4d7e-fbb5-6493780f8695"
      },
      "execution_count": 51,
      "outputs": [
        {
          "output_type": "execute_result",
          "data": {
            "text/plain": [
              "array([ 0.84046697,  0.112331  , -0.41213039,  0.21595971, -0.01781887,\n",
              "       -0.01480892, -0.87394103, -0.83913104])"
            ]
          },
          "metadata": {},
          "execution_count": 51
        }
      ]
    }
  ]
}