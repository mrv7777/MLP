{
  "nbformat": 4,
  "nbformat_minor": 0,
  "metadata": {
    "colab": {
      "provenance": [],
      "authorship_tag": "ABX9TyP+P7+KGhM2Vr8Yzh8QkqIM",
      "include_colab_link": true
    },
    "kernelspec": {
      "name": "python3",
      "display_name": "Python 3"
    },
    "language_info": {
      "name": "python"
    }
  },
  "cells": [
    {
      "cell_type": "markdown",
      "metadata": {
        "id": "view-in-github",
        "colab_type": "text"
      },
      "source": [
        "<a href=\"https://colab.research.google.com/github/mrv7777/MLP/blob/main/MLP_NPPE1.ipynb\" target=\"_parent\"><img src=\"https://colab.research.google.com/assets/colab-badge.svg\" alt=\"Open In Colab\"/></a>"
      ]
    },
    {
      "cell_type": "code",
      "execution_count": 1,
      "metadata": {
        "id": "xs81SkXwVgEj"
      },
      "outputs": [],
      "source": [
        "import pandas as pd\n",
        "import numpy as np\n"
      ]
    },
    {
      "cell_type": "code",
      "source": [
        "df = pd.read_csv('NPPE1_Preprocessing1.csv')"
      ],
      "metadata": {
        "id": "hAE3VFt3WJGq"
      },
      "execution_count": 54,
      "outputs": []
    },
    {
      "cell_type": "code",
      "source": [
        "df.head()"
      ],
      "metadata": {
        "colab": {
          "base_uri": "https://localhost:8080/",
          "height": 206
        },
        "id": "i4th-kfuWTSq",
        "outputId": "c6c80066-0b57-45fb-ddce-ee459474b072"
      },
      "execution_count": 3,
      "outputs": [
        {
          "output_type": "execute_result",
          "data": {
            "text/plain": [
              "        CRIM         ZN      INDUS  POLINDEX   RM   AGE        DIS  \\\n",
              "0   1.026769   1.429034   7.851300  1.134216  6.0  42.0   5.251911   \n",
              "1   0.848089   0.255543   6.263434  1.245993  7.0  63.0   4.305546   \n",
              "2  10.925905   0.441022  18.322960  2.824833  8.0  -2.0   2.409495   \n",
              "3   0.559027   1.041175  11.114920  0.794952  6.0   9.0   6.898669   \n",
              "4   0.905063  81.167963   3.673369  1.029030  8.0  20.0  10.246463   \n",
              "\n",
              "   HIGHWAYCOUNT         TAX    PTRATIO         IMM        BPL      PRICE  \\\n",
              "0             5  279.201277  20.689586  398.811960  10.461456  22.991633   \n",
              "1             8  307.444529  17.465398  377.153649  11.619690  24.551055   \n",
              "2            25  666.492973  20.351601  387.061355  19.366070  15.875346   \n",
              "3             4  305.514181  19.787314  391.778647   6.206820  23.007756   \n",
              "4             1  315.913960  17.360439  395.833166  10.827105  21.503177   \n",
              "\n",
              "  RIVERSIDE  \n",
              "0        NO  \n",
              "1        NO  \n",
              "2        NO  \n",
              "3        NO  \n",
              "4        NO  "
            ],
            "text/html": [
              "\n",
              "  <div id=\"df-8ecd9db9-7266-41e7-81b2-865b96ea9764\" class=\"colab-df-container\">\n",
              "    <div>\n",
              "<style scoped>\n",
              "    .dataframe tbody tr th:only-of-type {\n",
              "        vertical-align: middle;\n",
              "    }\n",
              "\n",
              "    .dataframe tbody tr th {\n",
              "        vertical-align: top;\n",
              "    }\n",
              "\n",
              "    .dataframe thead th {\n",
              "        text-align: right;\n",
              "    }\n",
              "</style>\n",
              "<table border=\"1\" class=\"dataframe\">\n",
              "  <thead>\n",
              "    <tr style=\"text-align: right;\">\n",
              "      <th></th>\n",
              "      <th>CRIM</th>\n",
              "      <th>ZN</th>\n",
              "      <th>INDUS</th>\n",
              "      <th>POLINDEX</th>\n",
              "      <th>RM</th>\n",
              "      <th>AGE</th>\n",
              "      <th>DIS</th>\n",
              "      <th>HIGHWAYCOUNT</th>\n",
              "      <th>TAX</th>\n",
              "      <th>PTRATIO</th>\n",
              "      <th>IMM</th>\n",
              "      <th>BPL</th>\n",
              "      <th>PRICE</th>\n",
              "      <th>RIVERSIDE</th>\n",
              "    </tr>\n",
              "  </thead>\n",
              "  <tbody>\n",
              "    <tr>\n",
              "      <th>0</th>\n",
              "      <td>1.026769</td>\n",
              "      <td>1.429034</td>\n",
              "      <td>7.851300</td>\n",
              "      <td>1.134216</td>\n",
              "      <td>6.0</td>\n",
              "      <td>42.0</td>\n",
              "      <td>5.251911</td>\n",
              "      <td>5</td>\n",
              "      <td>279.201277</td>\n",
              "      <td>20.689586</td>\n",
              "      <td>398.811960</td>\n",
              "      <td>10.461456</td>\n",
              "      <td>22.991633</td>\n",
              "      <td>NO</td>\n",
              "    </tr>\n",
              "    <tr>\n",
              "      <th>1</th>\n",
              "      <td>0.848089</td>\n",
              "      <td>0.255543</td>\n",
              "      <td>6.263434</td>\n",
              "      <td>1.245993</td>\n",
              "      <td>7.0</td>\n",
              "      <td>63.0</td>\n",
              "      <td>4.305546</td>\n",
              "      <td>8</td>\n",
              "      <td>307.444529</td>\n",
              "      <td>17.465398</td>\n",
              "      <td>377.153649</td>\n",
              "      <td>11.619690</td>\n",
              "      <td>24.551055</td>\n",
              "      <td>NO</td>\n",
              "    </tr>\n",
              "    <tr>\n",
              "      <th>2</th>\n",
              "      <td>10.925905</td>\n",
              "      <td>0.441022</td>\n",
              "      <td>18.322960</td>\n",
              "      <td>2.824833</td>\n",
              "      <td>8.0</td>\n",
              "      <td>-2.0</td>\n",
              "      <td>2.409495</td>\n",
              "      <td>25</td>\n",
              "      <td>666.492973</td>\n",
              "      <td>20.351601</td>\n",
              "      <td>387.061355</td>\n",
              "      <td>19.366070</td>\n",
              "      <td>15.875346</td>\n",
              "      <td>NO</td>\n",
              "    </tr>\n",
              "    <tr>\n",
              "      <th>3</th>\n",
              "      <td>0.559027</td>\n",
              "      <td>1.041175</td>\n",
              "      <td>11.114920</td>\n",
              "      <td>0.794952</td>\n",
              "      <td>6.0</td>\n",
              "      <td>9.0</td>\n",
              "      <td>6.898669</td>\n",
              "      <td>4</td>\n",
              "      <td>305.514181</td>\n",
              "      <td>19.787314</td>\n",
              "      <td>391.778647</td>\n",
              "      <td>6.206820</td>\n",
              "      <td>23.007756</td>\n",
              "      <td>NO</td>\n",
              "    </tr>\n",
              "    <tr>\n",
              "      <th>4</th>\n",
              "      <td>0.905063</td>\n",
              "      <td>81.167963</td>\n",
              "      <td>3.673369</td>\n",
              "      <td>1.029030</td>\n",
              "      <td>8.0</td>\n",
              "      <td>20.0</td>\n",
              "      <td>10.246463</td>\n",
              "      <td>1</td>\n",
              "      <td>315.913960</td>\n",
              "      <td>17.360439</td>\n",
              "      <td>395.833166</td>\n",
              "      <td>10.827105</td>\n",
              "      <td>21.503177</td>\n",
              "      <td>NO</td>\n",
              "    </tr>\n",
              "  </tbody>\n",
              "</table>\n",
              "</div>\n",
              "    <div class=\"colab-df-buttons\">\n",
              "\n",
              "  <div class=\"colab-df-container\">\n",
              "    <button class=\"colab-df-convert\" onclick=\"convertToInteractive('df-8ecd9db9-7266-41e7-81b2-865b96ea9764')\"\n",
              "            title=\"Convert this dataframe to an interactive table.\"\n",
              "            style=\"display:none;\">\n",
              "\n",
              "  <svg xmlns=\"http://www.w3.org/2000/svg\" height=\"24px\" viewBox=\"0 -960 960 960\">\n",
              "    <path d=\"M120-120v-720h720v720H120Zm60-500h600v-160H180v160Zm220 220h160v-160H400v160Zm0 220h160v-160H400v160ZM180-400h160v-160H180v160Zm440 0h160v-160H620v160ZM180-180h160v-160H180v160Zm440 0h160v-160H620v160Z\"/>\n",
              "  </svg>\n",
              "    </button>\n",
              "\n",
              "  <style>\n",
              "    .colab-df-container {\n",
              "      display:flex;\n",
              "      gap: 12px;\n",
              "    }\n",
              "\n",
              "    .colab-df-convert {\n",
              "      background-color: #E8F0FE;\n",
              "      border: none;\n",
              "      border-radius: 50%;\n",
              "      cursor: pointer;\n",
              "      display: none;\n",
              "      fill: #1967D2;\n",
              "      height: 32px;\n",
              "      padding: 0 0 0 0;\n",
              "      width: 32px;\n",
              "    }\n",
              "\n",
              "    .colab-df-convert:hover {\n",
              "      background-color: #E2EBFA;\n",
              "      box-shadow: 0px 1px 2px rgba(60, 64, 67, 0.3), 0px 1px 3px 1px rgba(60, 64, 67, 0.15);\n",
              "      fill: #174EA6;\n",
              "    }\n",
              "\n",
              "    .colab-df-buttons div {\n",
              "      margin-bottom: 4px;\n",
              "    }\n",
              "\n",
              "    [theme=dark] .colab-df-convert {\n",
              "      background-color: #3B4455;\n",
              "      fill: #D2E3FC;\n",
              "    }\n",
              "\n",
              "    [theme=dark] .colab-df-convert:hover {\n",
              "      background-color: #434B5C;\n",
              "      box-shadow: 0px 1px 3px 1px rgba(0, 0, 0, 0.15);\n",
              "      filter: drop-shadow(0px 1px 2px rgba(0, 0, 0, 0.3));\n",
              "      fill: #FFFFFF;\n",
              "    }\n",
              "  </style>\n",
              "\n",
              "    <script>\n",
              "      const buttonEl =\n",
              "        document.querySelector('#df-8ecd9db9-7266-41e7-81b2-865b96ea9764 button.colab-df-convert');\n",
              "      buttonEl.style.display =\n",
              "        google.colab.kernel.accessAllowed ? 'block' : 'none';\n",
              "\n",
              "      async function convertToInteractive(key) {\n",
              "        const element = document.querySelector('#df-8ecd9db9-7266-41e7-81b2-865b96ea9764');\n",
              "        const dataTable =\n",
              "          await google.colab.kernel.invokeFunction('convertToInteractive',\n",
              "                                                    [key], {});\n",
              "        if (!dataTable) return;\n",
              "\n",
              "        const docLinkHtml = 'Like what you see? Visit the ' +\n",
              "          '<a target=\"_blank\" href=https://colab.research.google.com/notebooks/data_table.ipynb>data table notebook</a>'\n",
              "          + ' to learn more about interactive tables.';\n",
              "        element.innerHTML = '';\n",
              "        dataTable['output_type'] = 'display_data';\n",
              "        await google.colab.output.renderOutput(dataTable, element);\n",
              "        const docLink = document.createElement('div');\n",
              "        docLink.innerHTML = docLinkHtml;\n",
              "        element.appendChild(docLink);\n",
              "      }\n",
              "    </script>\n",
              "  </div>\n",
              "\n",
              "\n",
              "<div id=\"df-bcc7a54d-0048-45a0-a2cc-b087c869a638\">\n",
              "  <button class=\"colab-df-quickchart\" onclick=\"quickchart('df-bcc7a54d-0048-45a0-a2cc-b087c869a638')\"\n",
              "            title=\"Suggest charts\"\n",
              "            style=\"display:none;\">\n",
              "\n",
              "<svg xmlns=\"http://www.w3.org/2000/svg\" height=\"24px\"viewBox=\"0 0 24 24\"\n",
              "     width=\"24px\">\n",
              "    <g>\n",
              "        <path d=\"M19 3H5c-1.1 0-2 .9-2 2v14c0 1.1.9 2 2 2h14c1.1 0 2-.9 2-2V5c0-1.1-.9-2-2-2zM9 17H7v-7h2v7zm4 0h-2V7h2v10zm4 0h-2v-4h2v4z\"/>\n",
              "    </g>\n",
              "</svg>\n",
              "  </button>\n",
              "\n",
              "<style>\n",
              "  .colab-df-quickchart {\n",
              "      --bg-color: #E8F0FE;\n",
              "      --fill-color: #1967D2;\n",
              "      --hover-bg-color: #E2EBFA;\n",
              "      --hover-fill-color: #174EA6;\n",
              "      --disabled-fill-color: #AAA;\n",
              "      --disabled-bg-color: #DDD;\n",
              "  }\n",
              "\n",
              "  [theme=dark] .colab-df-quickchart {\n",
              "      --bg-color: #3B4455;\n",
              "      --fill-color: #D2E3FC;\n",
              "      --hover-bg-color: #434B5C;\n",
              "      --hover-fill-color: #FFFFFF;\n",
              "      --disabled-bg-color: #3B4455;\n",
              "      --disabled-fill-color: #666;\n",
              "  }\n",
              "\n",
              "  .colab-df-quickchart {\n",
              "    background-color: var(--bg-color);\n",
              "    border: none;\n",
              "    border-radius: 50%;\n",
              "    cursor: pointer;\n",
              "    display: none;\n",
              "    fill: var(--fill-color);\n",
              "    height: 32px;\n",
              "    padding: 0;\n",
              "    width: 32px;\n",
              "  }\n",
              "\n",
              "  .colab-df-quickchart:hover {\n",
              "    background-color: var(--hover-bg-color);\n",
              "    box-shadow: 0 1px 2px rgba(60, 64, 67, 0.3), 0 1px 3px 1px rgba(60, 64, 67, 0.15);\n",
              "    fill: var(--button-hover-fill-color);\n",
              "  }\n",
              "\n",
              "  .colab-df-quickchart-complete:disabled,\n",
              "  .colab-df-quickchart-complete:disabled:hover {\n",
              "    background-color: var(--disabled-bg-color);\n",
              "    fill: var(--disabled-fill-color);\n",
              "    box-shadow: none;\n",
              "  }\n",
              "\n",
              "  .colab-df-spinner {\n",
              "    border: 2px solid var(--fill-color);\n",
              "    border-color: transparent;\n",
              "    border-bottom-color: var(--fill-color);\n",
              "    animation:\n",
              "      spin 1s steps(1) infinite;\n",
              "  }\n",
              "\n",
              "  @keyframes spin {\n",
              "    0% {\n",
              "      border-color: transparent;\n",
              "      border-bottom-color: var(--fill-color);\n",
              "      border-left-color: var(--fill-color);\n",
              "    }\n",
              "    20% {\n",
              "      border-color: transparent;\n",
              "      border-left-color: var(--fill-color);\n",
              "      border-top-color: var(--fill-color);\n",
              "    }\n",
              "    30% {\n",
              "      border-color: transparent;\n",
              "      border-left-color: var(--fill-color);\n",
              "      border-top-color: var(--fill-color);\n",
              "      border-right-color: var(--fill-color);\n",
              "    }\n",
              "    40% {\n",
              "      border-color: transparent;\n",
              "      border-right-color: var(--fill-color);\n",
              "      border-top-color: var(--fill-color);\n",
              "    }\n",
              "    60% {\n",
              "      border-color: transparent;\n",
              "      border-right-color: var(--fill-color);\n",
              "    }\n",
              "    80% {\n",
              "      border-color: transparent;\n",
              "      border-right-color: var(--fill-color);\n",
              "      border-bottom-color: var(--fill-color);\n",
              "    }\n",
              "    90% {\n",
              "      border-color: transparent;\n",
              "      border-bottom-color: var(--fill-color);\n",
              "    }\n",
              "  }\n",
              "</style>\n",
              "\n",
              "  <script>\n",
              "    async function quickchart(key) {\n",
              "      const quickchartButtonEl =\n",
              "        document.querySelector('#' + key + ' button');\n",
              "      quickchartButtonEl.disabled = true;  // To prevent multiple clicks.\n",
              "      quickchartButtonEl.classList.add('colab-df-spinner');\n",
              "      try {\n",
              "        const charts = await google.colab.kernel.invokeFunction(\n",
              "            'suggestCharts', [key], {});\n",
              "      } catch (error) {\n",
              "        console.error('Error during call to suggestCharts:', error);\n",
              "      }\n",
              "      quickchartButtonEl.classList.remove('colab-df-spinner');\n",
              "      quickchartButtonEl.classList.add('colab-df-quickchart-complete');\n",
              "    }\n",
              "    (() => {\n",
              "      let quickchartButtonEl =\n",
              "        document.querySelector('#df-bcc7a54d-0048-45a0-a2cc-b087c869a638 button');\n",
              "      quickchartButtonEl.style.display =\n",
              "        google.colab.kernel.accessAllowed ? 'block' : 'none';\n",
              "    })();\n",
              "  </script>\n",
              "</div>\n",
              "\n",
              "    </div>\n",
              "  </div>\n"
            ],
            "application/vnd.google.colaboratory.intrinsic+json": {
              "type": "dataframe",
              "variable_name": "df",
              "summary": "{\n  \"name\": \"df\",\n  \"rows\": 4000,\n  \"fields\": [\n    {\n      \"column\": \"CRIM\",\n      \"properties\": {\n        \"dtype\": \"number\",\n        \"std\": 2.4756462622728774,\n        \"min\": 0.0310930438582509,\n        \"max\": 12.619405277902771,\n        \"num_unique_values\": 4000,\n        \"samples\": [\n          10.831224921095714,\n          0.953207752853487,\n          5.781132959514714\n        ],\n        \"semantic_type\": \"\",\n        \"description\": \"\"\n      }\n    },\n    {\n      \"column\": \"ZN\",\n      \"properties\": {\n        \"dtype\": \"number\",\n        \"std\": 23.312648793994484,\n        \"min\": 0.0002814402235964,\n        \"max\": 101.67073973465143,\n        \"num_unique_values\": 4000,\n        \"samples\": [\n          0.4565955423160071,\n          22.58564221235115,\n          0.5626399885644546\n        ],\n        \"semantic_type\": \"\",\n        \"description\": \"\"\n      }\n    },\n    {\n      \"column\": \"INDUS\",\n      \"properties\": {\n        \"dtype\": \"number\",\n        \"std\": 6.827508528281335,\n        \"min\": 0.6333879398140939,\n        \"max\": 30.36720906351064,\n        \"num_unique_values\": 4000,\n        \"samples\": [\n          18.3465226507992,\n          6.370536592918024,\n          19.6492039971422\n        ],\n        \"semantic_type\": \"\",\n        \"description\": \"\"\n      }\n    },\n    {\n      \"column\": \"POLINDEX\",\n      \"properties\": {\n        \"dtype\": \"number\",\n        \"std\": 0.6010235583614255,\n        \"min\": 0.4050847999570661,\n        \"max\": 4.156570046265983,\n        \"num_unique_values\": 4000,\n        \"samples\": [\n          0.8787669990613265,\n          1.3178252880593984,\n          2.383613383451163\n        ],\n        \"semantic_type\": \"\",\n        \"description\": \"\"\n      }\n    },\n    {\n      \"column\": \"RM\",\n      \"properties\": {\n        \"dtype\": \"number\",\n        \"std\": 1.240525886920178,\n        \"min\": -1.0,\n        \"max\": 11.0,\n        \"num_unique_values\": 9,\n        \"samples\": [\n          4.0,\n          7.0,\n          -1.0\n        ],\n        \"semantic_type\": \"\",\n        \"description\": \"\"\n      }\n    },\n    {\n      \"column\": \"AGE\",\n      \"properties\": {\n        \"dtype\": \"number\",\n        \"std\": 29.10092250982311,\n        \"min\": -2.0,\n        \"max\": 103.0,\n        \"num_unique_values\": 102,\n        \"samples\": [\n          93.0,\n          79.0,\n          45.0\n        ],\n        \"semantic_type\": \"\",\n        \"description\": \"\"\n      }\n    },\n    {\n      \"column\": \"DIS\",\n      \"properties\": {\n        \"dtype\": \"number\",\n        \"std\": 2.174427190759426,\n        \"min\": 1.163081974016663,\n        \"max\": 14.045317837400347,\n        \"num_unique_values\": 4000,\n        \"samples\": [\n          2.121423729026626,\n          8.360003011817742,\n          3.276015197630771\n        ],\n        \"semantic_type\": \"\",\n        \"description\": \"\"\n      }\n    },\n    {\n      \"column\": \"HIGHWAYCOUNT\",\n      \"properties\": {\n        \"dtype\": \"number\",\n        \"std\": 7,\n        \"min\": 1,\n        \"max\": 27,\n        \"num_unique_values\": 15,\n        \"samples\": [\n          3,\n          10,\n          5\n        ],\n        \"semantic_type\": \"\",\n        \"description\": \"\"\n      }\n    },\n    {\n      \"column\": \"TAX\",\n      \"properties\": {\n        \"dtype\": \"number\",\n        \"std\": 150.270818062805,\n        \"min\": 187.0250989029544,\n        \"max\": 713.0281332130706,\n        \"num_unique_values\": 4000,\n        \"samples\": [\n          666.7737254901376,\n          330.2367374981048,\n          666.8191889914782\n        ],\n        \"semantic_type\": \"\",\n        \"description\": \"\"\n      }\n    },\n    {\n      \"column\": \"PTRATIO\",\n      \"properties\": {\n        \"dtype\": \"number\",\n        \"std\": 2.2672931299145693,\n        \"min\": 12.641899141366697,\n        \"max\": 24.322091262098887,\n        \"num_unique_values\": 4000,\n        \"samples\": [\n          20.3751522578949,\n          20.27653854707035,\n          21.379232569949977\n        ],\n        \"semantic_type\": \"\",\n        \"description\": \"\"\n      }\n    },\n    {\n      \"column\": \"IMM\",\n      \"properties\": {\n        \"dtype\": \"number\",\n        \"std\": 67.68758632464606,\n        \"min\": 0.5329802728126296,\n        \"max\": 400.7805827462825,\n        \"num_unique_values\": 4000,\n        \"samples\": [\n          387.7735652778036,\n          390.541475574156,\n          10.537791860822836\n        ],\n        \"semantic_type\": \"\",\n        \"description\": \"\"\n      }\n    },\n    {\n      \"column\": \"BPL\",\n      \"properties\": {\n        \"dtype\": \"number\",\n        \"std\": 6.143059504735248,\n        \"min\": 1.9862953413087248,\n        \"max\": 35.99728129531004,\n        \"num_unique_values\": 4000,\n        \"samples\": [\n          19.50195563710608,\n          9.967248102302412,\n          19.71927265986072\n        ],\n        \"semantic_type\": \"\",\n        \"description\": \"\"\n      }\n    },\n    {\n      \"column\": \"PRICE\",\n      \"properties\": {\n        \"dtype\": \"number\",\n        \"std\": 8.633523119748661,\n        \"min\": 6.3482657858979215,\n        \"max\": 53.09025591497754,\n        \"num_unique_values\": 4000,\n        \"samples\": [\n          16.913047426817688,\n          25.04725435512905,\n          14.44370427335717\n        ],\n        \"semantic_type\": \"\",\n        \"description\": \"\"\n      }\n    },\n    {\n      \"column\": \"RIVERSIDE\",\n      \"properties\": {\n        \"dtype\": \"category\",\n        \"num_unique_values\": 3,\n        \"samples\": [\n          \"NO\",\n          \"UNKNOWN\",\n          \"YES\"\n        ],\n        \"semantic_type\": \"\",\n        \"description\": \"\"\n      }\n    }\n  ]\n}"
            }
          },
          "metadata": {},
          "execution_count": 3
        }
      ]
    },
    {
      "cell_type": "markdown",
      "source": [
        "How many samples are there in the dataset?"
      ],
      "metadata": {
        "id": "nGimhV81ZGcu"
      }
    },
    {
      "cell_type": "code",
      "source": [
        "df.shape"
      ],
      "metadata": {
        "colab": {
          "base_uri": "https://localhost:8080/"
        },
        "id": "rFaGVFHZWiZf",
        "outputId": "2dbe75c8-956d-4b01-a5c3-5ba5ffdddc1b"
      },
      "execution_count": 5,
      "outputs": [
        {
          "output_type": "execute_result",
          "data": {
            "text/plain": [
              "(4000, 14)"
            ]
          },
          "metadata": {},
          "execution_count": 5
        }
      ]
    },
    {
      "cell_type": "markdown",
      "source": [
        "What is the average house price (in lacs)?"
      ],
      "metadata": {
        "id": "ZbYrG_hiZPSX"
      }
    },
    {
      "cell_type": "code",
      "source": [
        "df['PRICE'].mean()"
      ],
      "metadata": {
        "colab": {
          "base_uri": "https://localhost:8080/"
        },
        "id": "YnKGmIm7WupM",
        "outputId": "811c2b2c-0962-455d-c37a-355e02286193"
      },
      "execution_count": 6,
      "outputs": [
        {
          "output_type": "execute_result",
          "data": {
            "text/plain": [
              "24.355923220694248"
            ]
          },
          "metadata": {},
          "execution_count": 6
        }
      ]
    },
    {
      "cell_type": "markdown",
      "source": [
        "How many houses have 5 or more rooms?"
      ],
      "metadata": {
        "id": "adXfsyhrZQtd"
      }
    },
    {
      "cell_type": "code",
      "source": [
        "df['RM'][df['RM']>=5].count()"
      ],
      "metadata": {
        "colab": {
          "base_uri": "https://localhost:8080/"
        },
        "id": "aQcBnzyFW8ue",
        "outputId": "b2e41d30-8fff-4df4-d8b2-51983d026af9"
      },
      "execution_count": 16,
      "outputs": [
        {
          "output_type": "execute_result",
          "data": {
            "text/plain": [
              "3953"
            ]
          },
          "metadata": {},
          "execution_count": 16
        }
      ]
    },
    {
      "cell_type": "markdown",
      "source": [
        "\n",
        "What is the average price of the top 10 most expensive houses (in lacs)?"
      ],
      "metadata": {
        "id": "jH8oHQ2HZVyA"
      }
    },
    {
      "cell_type": "code",
      "source": [
        "df_sorted = df.sort_values('PRICE',ascending=False).head(10)\n",
        "df_sorted['PRICE'].mean()"
      ],
      "metadata": {
        "colab": {
          "base_uri": "https://localhost:8080/"
        },
        "id": "C8bSQ09pXYQn",
        "outputId": "7c29a0b7-d9f1-4d76-a489-e631415b1edf"
      },
      "execution_count": 15,
      "outputs": [
        {
          "output_type": "execute_result",
          "data": {
            "text/plain": [
              "52.36590175716407"
            ]
          },
          "metadata": {},
          "execution_count": 15
        }
      ]
    },
    {
      "cell_type": "code",
      "source": [
        "df.head()"
      ],
      "metadata": {
        "colab": {
          "base_uri": "https://localhost:8080/",
          "height": 206
        },
        "id": "q3735EhmYSKf",
        "outputId": "aaf20fcc-387f-4ff6-ac44-98fe94f4d0c1"
      },
      "execution_count": 17,
      "outputs": [
        {
          "output_type": "execute_result",
          "data": {
            "text/plain": [
              "        CRIM         ZN      INDUS  POLINDEX   RM   AGE        DIS  \\\n",
              "0   1.026769   1.429034   7.851300  1.134216  6.0  42.0   5.251911   \n",
              "1   0.848089   0.255543   6.263434  1.245993  7.0  63.0   4.305546   \n",
              "2  10.925905   0.441022  18.322960  2.824833  8.0  -2.0   2.409495   \n",
              "3   0.559027   1.041175  11.114920  0.794952  6.0   9.0   6.898669   \n",
              "4   0.905063  81.167963   3.673369  1.029030  8.0  20.0  10.246463   \n",
              "\n",
              "   HIGHWAYCOUNT         TAX    PTRATIO         IMM        BPL      PRICE  \\\n",
              "0             5  279.201277  20.689586  398.811960  10.461456  22.991633   \n",
              "1             8  307.444529  17.465398  377.153649  11.619690  24.551055   \n",
              "2            25  666.492973  20.351601  387.061355  19.366070  15.875346   \n",
              "3             4  305.514181  19.787314  391.778647   6.206820  23.007756   \n",
              "4             1  315.913960  17.360439  395.833166  10.827105  21.503177   \n",
              "\n",
              "  RIVERSIDE  \n",
              "0        NO  \n",
              "1        NO  \n",
              "2        NO  \n",
              "3        NO  \n",
              "4        NO  "
            ],
            "text/html": [
              "\n",
              "  <div id=\"df-7357e66f-0961-48ca-a418-221723927a46\" class=\"colab-df-container\">\n",
              "    <div>\n",
              "<style scoped>\n",
              "    .dataframe tbody tr th:only-of-type {\n",
              "        vertical-align: middle;\n",
              "    }\n",
              "\n",
              "    .dataframe tbody tr th {\n",
              "        vertical-align: top;\n",
              "    }\n",
              "\n",
              "    .dataframe thead th {\n",
              "        text-align: right;\n",
              "    }\n",
              "</style>\n",
              "<table border=\"1\" class=\"dataframe\">\n",
              "  <thead>\n",
              "    <tr style=\"text-align: right;\">\n",
              "      <th></th>\n",
              "      <th>CRIM</th>\n",
              "      <th>ZN</th>\n",
              "      <th>INDUS</th>\n",
              "      <th>POLINDEX</th>\n",
              "      <th>RM</th>\n",
              "      <th>AGE</th>\n",
              "      <th>DIS</th>\n",
              "      <th>HIGHWAYCOUNT</th>\n",
              "      <th>TAX</th>\n",
              "      <th>PTRATIO</th>\n",
              "      <th>IMM</th>\n",
              "      <th>BPL</th>\n",
              "      <th>PRICE</th>\n",
              "      <th>RIVERSIDE</th>\n",
              "    </tr>\n",
              "  </thead>\n",
              "  <tbody>\n",
              "    <tr>\n",
              "      <th>0</th>\n",
              "      <td>1.026769</td>\n",
              "      <td>1.429034</td>\n",
              "      <td>7.851300</td>\n",
              "      <td>1.134216</td>\n",
              "      <td>6.0</td>\n",
              "      <td>42.0</td>\n",
              "      <td>5.251911</td>\n",
              "      <td>5</td>\n",
              "      <td>279.201277</td>\n",
              "      <td>20.689586</td>\n",
              "      <td>398.811960</td>\n",
              "      <td>10.461456</td>\n",
              "      <td>22.991633</td>\n",
              "      <td>NO</td>\n",
              "    </tr>\n",
              "    <tr>\n",
              "      <th>1</th>\n",
              "      <td>0.848089</td>\n",
              "      <td>0.255543</td>\n",
              "      <td>6.263434</td>\n",
              "      <td>1.245993</td>\n",
              "      <td>7.0</td>\n",
              "      <td>63.0</td>\n",
              "      <td>4.305546</td>\n",
              "      <td>8</td>\n",
              "      <td>307.444529</td>\n",
              "      <td>17.465398</td>\n",
              "      <td>377.153649</td>\n",
              "      <td>11.619690</td>\n",
              "      <td>24.551055</td>\n",
              "      <td>NO</td>\n",
              "    </tr>\n",
              "    <tr>\n",
              "      <th>2</th>\n",
              "      <td>10.925905</td>\n",
              "      <td>0.441022</td>\n",
              "      <td>18.322960</td>\n",
              "      <td>2.824833</td>\n",
              "      <td>8.0</td>\n",
              "      <td>-2.0</td>\n",
              "      <td>2.409495</td>\n",
              "      <td>25</td>\n",
              "      <td>666.492973</td>\n",
              "      <td>20.351601</td>\n",
              "      <td>387.061355</td>\n",
              "      <td>19.366070</td>\n",
              "      <td>15.875346</td>\n",
              "      <td>NO</td>\n",
              "    </tr>\n",
              "    <tr>\n",
              "      <th>3</th>\n",
              "      <td>0.559027</td>\n",
              "      <td>1.041175</td>\n",
              "      <td>11.114920</td>\n",
              "      <td>0.794952</td>\n",
              "      <td>6.0</td>\n",
              "      <td>9.0</td>\n",
              "      <td>6.898669</td>\n",
              "      <td>4</td>\n",
              "      <td>305.514181</td>\n",
              "      <td>19.787314</td>\n",
              "      <td>391.778647</td>\n",
              "      <td>6.206820</td>\n",
              "      <td>23.007756</td>\n",
              "      <td>NO</td>\n",
              "    </tr>\n",
              "    <tr>\n",
              "      <th>4</th>\n",
              "      <td>0.905063</td>\n",
              "      <td>81.167963</td>\n",
              "      <td>3.673369</td>\n",
              "      <td>1.029030</td>\n",
              "      <td>8.0</td>\n",
              "      <td>20.0</td>\n",
              "      <td>10.246463</td>\n",
              "      <td>1</td>\n",
              "      <td>315.913960</td>\n",
              "      <td>17.360439</td>\n",
              "      <td>395.833166</td>\n",
              "      <td>10.827105</td>\n",
              "      <td>21.503177</td>\n",
              "      <td>NO</td>\n",
              "    </tr>\n",
              "  </tbody>\n",
              "</table>\n",
              "</div>\n",
              "    <div class=\"colab-df-buttons\">\n",
              "\n",
              "  <div class=\"colab-df-container\">\n",
              "    <button class=\"colab-df-convert\" onclick=\"convertToInteractive('df-7357e66f-0961-48ca-a418-221723927a46')\"\n",
              "            title=\"Convert this dataframe to an interactive table.\"\n",
              "            style=\"display:none;\">\n",
              "\n",
              "  <svg xmlns=\"http://www.w3.org/2000/svg\" height=\"24px\" viewBox=\"0 -960 960 960\">\n",
              "    <path d=\"M120-120v-720h720v720H120Zm60-500h600v-160H180v160Zm220 220h160v-160H400v160Zm0 220h160v-160H400v160ZM180-400h160v-160H180v160Zm440 0h160v-160H620v160ZM180-180h160v-160H180v160Zm440 0h160v-160H620v160Z\"/>\n",
              "  </svg>\n",
              "    </button>\n",
              "\n",
              "  <style>\n",
              "    .colab-df-container {\n",
              "      display:flex;\n",
              "      gap: 12px;\n",
              "    }\n",
              "\n",
              "    .colab-df-convert {\n",
              "      background-color: #E8F0FE;\n",
              "      border: none;\n",
              "      border-radius: 50%;\n",
              "      cursor: pointer;\n",
              "      display: none;\n",
              "      fill: #1967D2;\n",
              "      height: 32px;\n",
              "      padding: 0 0 0 0;\n",
              "      width: 32px;\n",
              "    }\n",
              "\n",
              "    .colab-df-convert:hover {\n",
              "      background-color: #E2EBFA;\n",
              "      box-shadow: 0px 1px 2px rgba(60, 64, 67, 0.3), 0px 1px 3px 1px rgba(60, 64, 67, 0.15);\n",
              "      fill: #174EA6;\n",
              "    }\n",
              "\n",
              "    .colab-df-buttons div {\n",
              "      margin-bottom: 4px;\n",
              "    }\n",
              "\n",
              "    [theme=dark] .colab-df-convert {\n",
              "      background-color: #3B4455;\n",
              "      fill: #D2E3FC;\n",
              "    }\n",
              "\n",
              "    [theme=dark] .colab-df-convert:hover {\n",
              "      background-color: #434B5C;\n",
              "      box-shadow: 0px 1px 3px 1px rgba(0, 0, 0, 0.15);\n",
              "      filter: drop-shadow(0px 1px 2px rgba(0, 0, 0, 0.3));\n",
              "      fill: #FFFFFF;\n",
              "    }\n",
              "  </style>\n",
              "\n",
              "    <script>\n",
              "      const buttonEl =\n",
              "        document.querySelector('#df-7357e66f-0961-48ca-a418-221723927a46 button.colab-df-convert');\n",
              "      buttonEl.style.display =\n",
              "        google.colab.kernel.accessAllowed ? 'block' : 'none';\n",
              "\n",
              "      async function convertToInteractive(key) {\n",
              "        const element = document.querySelector('#df-7357e66f-0961-48ca-a418-221723927a46');\n",
              "        const dataTable =\n",
              "          await google.colab.kernel.invokeFunction('convertToInteractive',\n",
              "                                                    [key], {});\n",
              "        if (!dataTable) return;\n",
              "\n",
              "        const docLinkHtml = 'Like what you see? Visit the ' +\n",
              "          '<a target=\"_blank\" href=https://colab.research.google.com/notebooks/data_table.ipynb>data table notebook</a>'\n",
              "          + ' to learn more about interactive tables.';\n",
              "        element.innerHTML = '';\n",
              "        dataTable['output_type'] = 'display_data';\n",
              "        await google.colab.output.renderOutput(dataTable, element);\n",
              "        const docLink = document.createElement('div');\n",
              "        docLink.innerHTML = docLinkHtml;\n",
              "        element.appendChild(docLink);\n",
              "      }\n",
              "    </script>\n",
              "  </div>\n",
              "\n",
              "\n",
              "<div id=\"df-a7e3e63d-3600-40e5-989b-5aec168c2921\">\n",
              "  <button class=\"colab-df-quickchart\" onclick=\"quickchart('df-a7e3e63d-3600-40e5-989b-5aec168c2921')\"\n",
              "            title=\"Suggest charts\"\n",
              "            style=\"display:none;\">\n",
              "\n",
              "<svg xmlns=\"http://www.w3.org/2000/svg\" height=\"24px\"viewBox=\"0 0 24 24\"\n",
              "     width=\"24px\">\n",
              "    <g>\n",
              "        <path d=\"M19 3H5c-1.1 0-2 .9-2 2v14c0 1.1.9 2 2 2h14c1.1 0 2-.9 2-2V5c0-1.1-.9-2-2-2zM9 17H7v-7h2v7zm4 0h-2V7h2v10zm4 0h-2v-4h2v4z\"/>\n",
              "    </g>\n",
              "</svg>\n",
              "  </button>\n",
              "\n",
              "<style>\n",
              "  .colab-df-quickchart {\n",
              "      --bg-color: #E8F0FE;\n",
              "      --fill-color: #1967D2;\n",
              "      --hover-bg-color: #E2EBFA;\n",
              "      --hover-fill-color: #174EA6;\n",
              "      --disabled-fill-color: #AAA;\n",
              "      --disabled-bg-color: #DDD;\n",
              "  }\n",
              "\n",
              "  [theme=dark] .colab-df-quickchart {\n",
              "      --bg-color: #3B4455;\n",
              "      --fill-color: #D2E3FC;\n",
              "      --hover-bg-color: #434B5C;\n",
              "      --hover-fill-color: #FFFFFF;\n",
              "      --disabled-bg-color: #3B4455;\n",
              "      --disabled-fill-color: #666;\n",
              "  }\n",
              "\n",
              "  .colab-df-quickchart {\n",
              "    background-color: var(--bg-color);\n",
              "    border: none;\n",
              "    border-radius: 50%;\n",
              "    cursor: pointer;\n",
              "    display: none;\n",
              "    fill: var(--fill-color);\n",
              "    height: 32px;\n",
              "    padding: 0;\n",
              "    width: 32px;\n",
              "  }\n",
              "\n",
              "  .colab-df-quickchart:hover {\n",
              "    background-color: var(--hover-bg-color);\n",
              "    box-shadow: 0 1px 2px rgba(60, 64, 67, 0.3), 0 1px 3px 1px rgba(60, 64, 67, 0.15);\n",
              "    fill: var(--button-hover-fill-color);\n",
              "  }\n",
              "\n",
              "  .colab-df-quickchart-complete:disabled,\n",
              "  .colab-df-quickchart-complete:disabled:hover {\n",
              "    background-color: var(--disabled-bg-color);\n",
              "    fill: var(--disabled-fill-color);\n",
              "    box-shadow: none;\n",
              "  }\n",
              "\n",
              "  .colab-df-spinner {\n",
              "    border: 2px solid var(--fill-color);\n",
              "    border-color: transparent;\n",
              "    border-bottom-color: var(--fill-color);\n",
              "    animation:\n",
              "      spin 1s steps(1) infinite;\n",
              "  }\n",
              "\n",
              "  @keyframes spin {\n",
              "    0% {\n",
              "      border-color: transparent;\n",
              "      border-bottom-color: var(--fill-color);\n",
              "      border-left-color: var(--fill-color);\n",
              "    }\n",
              "    20% {\n",
              "      border-color: transparent;\n",
              "      border-left-color: var(--fill-color);\n",
              "      border-top-color: var(--fill-color);\n",
              "    }\n",
              "    30% {\n",
              "      border-color: transparent;\n",
              "      border-left-color: var(--fill-color);\n",
              "      border-top-color: var(--fill-color);\n",
              "      border-right-color: var(--fill-color);\n",
              "    }\n",
              "    40% {\n",
              "      border-color: transparent;\n",
              "      border-right-color: var(--fill-color);\n",
              "      border-top-color: var(--fill-color);\n",
              "    }\n",
              "    60% {\n",
              "      border-color: transparent;\n",
              "      border-right-color: var(--fill-color);\n",
              "    }\n",
              "    80% {\n",
              "      border-color: transparent;\n",
              "      border-right-color: var(--fill-color);\n",
              "      border-bottom-color: var(--fill-color);\n",
              "    }\n",
              "    90% {\n",
              "      border-color: transparent;\n",
              "      border-bottom-color: var(--fill-color);\n",
              "    }\n",
              "  }\n",
              "</style>\n",
              "\n",
              "  <script>\n",
              "    async function quickchart(key) {\n",
              "      const quickchartButtonEl =\n",
              "        document.querySelector('#' + key + ' button');\n",
              "      quickchartButtonEl.disabled = true;  // To prevent multiple clicks.\n",
              "      quickchartButtonEl.classList.add('colab-df-spinner');\n",
              "      try {\n",
              "        const charts = await google.colab.kernel.invokeFunction(\n",
              "            'suggestCharts', [key], {});\n",
              "      } catch (error) {\n",
              "        console.error('Error during call to suggestCharts:', error);\n",
              "      }\n",
              "      quickchartButtonEl.classList.remove('colab-df-spinner');\n",
              "      quickchartButtonEl.classList.add('colab-df-quickchart-complete');\n",
              "    }\n",
              "    (() => {\n",
              "      let quickchartButtonEl =\n",
              "        document.querySelector('#df-a7e3e63d-3600-40e5-989b-5aec168c2921 button');\n",
              "      quickchartButtonEl.style.display =\n",
              "        google.colab.kernel.accessAllowed ? 'block' : 'none';\n",
              "    })();\n",
              "  </script>\n",
              "</div>\n",
              "\n",
              "    </div>\n",
              "  </div>\n"
            ],
            "application/vnd.google.colaboratory.intrinsic+json": {
              "type": "dataframe",
              "variable_name": "df",
              "summary": "{\n  \"name\": \"df\",\n  \"rows\": 4000,\n  \"fields\": [\n    {\n      \"column\": \"CRIM\",\n      \"properties\": {\n        \"dtype\": \"number\",\n        \"std\": 2.4756462622728774,\n        \"min\": 0.0310930438582509,\n        \"max\": 12.619405277902771,\n        \"num_unique_values\": 4000,\n        \"samples\": [\n          10.831224921095714,\n          0.953207752853487,\n          5.781132959514714\n        ],\n        \"semantic_type\": \"\",\n        \"description\": \"\"\n      }\n    },\n    {\n      \"column\": \"ZN\",\n      \"properties\": {\n        \"dtype\": \"number\",\n        \"std\": 23.312648793994484,\n        \"min\": 0.0002814402235964,\n        \"max\": 101.67073973465143,\n        \"num_unique_values\": 4000,\n        \"samples\": [\n          0.4565955423160071,\n          22.58564221235115,\n          0.5626399885644546\n        ],\n        \"semantic_type\": \"\",\n        \"description\": \"\"\n      }\n    },\n    {\n      \"column\": \"INDUS\",\n      \"properties\": {\n        \"dtype\": \"number\",\n        \"std\": 6.827508528281335,\n        \"min\": 0.6333879398140939,\n        \"max\": 30.36720906351064,\n        \"num_unique_values\": 4000,\n        \"samples\": [\n          18.3465226507992,\n          6.370536592918024,\n          19.6492039971422\n        ],\n        \"semantic_type\": \"\",\n        \"description\": \"\"\n      }\n    },\n    {\n      \"column\": \"POLINDEX\",\n      \"properties\": {\n        \"dtype\": \"number\",\n        \"std\": 0.6010235583614255,\n        \"min\": 0.4050847999570661,\n        \"max\": 4.156570046265983,\n        \"num_unique_values\": 4000,\n        \"samples\": [\n          0.8787669990613265,\n          1.3178252880593984,\n          2.383613383451163\n        ],\n        \"semantic_type\": \"\",\n        \"description\": \"\"\n      }\n    },\n    {\n      \"column\": \"RM\",\n      \"properties\": {\n        \"dtype\": \"number\",\n        \"std\": 1.240525886920178,\n        \"min\": -1.0,\n        \"max\": 11.0,\n        \"num_unique_values\": 9,\n        \"samples\": [\n          4.0,\n          7.0,\n          -1.0\n        ],\n        \"semantic_type\": \"\",\n        \"description\": \"\"\n      }\n    },\n    {\n      \"column\": \"AGE\",\n      \"properties\": {\n        \"dtype\": \"number\",\n        \"std\": 29.10092250982311,\n        \"min\": -2.0,\n        \"max\": 103.0,\n        \"num_unique_values\": 102,\n        \"samples\": [\n          93.0,\n          79.0,\n          45.0\n        ],\n        \"semantic_type\": \"\",\n        \"description\": \"\"\n      }\n    },\n    {\n      \"column\": \"DIS\",\n      \"properties\": {\n        \"dtype\": \"number\",\n        \"std\": 2.174427190759426,\n        \"min\": 1.163081974016663,\n        \"max\": 14.045317837400347,\n        \"num_unique_values\": 4000,\n        \"samples\": [\n          2.121423729026626,\n          8.360003011817742,\n          3.276015197630771\n        ],\n        \"semantic_type\": \"\",\n        \"description\": \"\"\n      }\n    },\n    {\n      \"column\": \"HIGHWAYCOUNT\",\n      \"properties\": {\n        \"dtype\": \"number\",\n        \"std\": 7,\n        \"min\": 1,\n        \"max\": 27,\n        \"num_unique_values\": 15,\n        \"samples\": [\n          3,\n          10,\n          5\n        ],\n        \"semantic_type\": \"\",\n        \"description\": \"\"\n      }\n    },\n    {\n      \"column\": \"TAX\",\n      \"properties\": {\n        \"dtype\": \"number\",\n        \"std\": 150.270818062805,\n        \"min\": 187.0250989029544,\n        \"max\": 713.0281332130706,\n        \"num_unique_values\": 4000,\n        \"samples\": [\n          666.7737254901376,\n          330.2367374981048,\n          666.8191889914782\n        ],\n        \"semantic_type\": \"\",\n        \"description\": \"\"\n      }\n    },\n    {\n      \"column\": \"PTRATIO\",\n      \"properties\": {\n        \"dtype\": \"number\",\n        \"std\": 2.2672931299145693,\n        \"min\": 12.641899141366697,\n        \"max\": 24.322091262098887,\n        \"num_unique_values\": 4000,\n        \"samples\": [\n          20.3751522578949,\n          20.27653854707035,\n          21.379232569949977\n        ],\n        \"semantic_type\": \"\",\n        \"description\": \"\"\n      }\n    },\n    {\n      \"column\": \"IMM\",\n      \"properties\": {\n        \"dtype\": \"number\",\n        \"std\": 67.68758632464606,\n        \"min\": 0.5329802728126296,\n        \"max\": 400.7805827462825,\n        \"num_unique_values\": 4000,\n        \"samples\": [\n          387.7735652778036,\n          390.541475574156,\n          10.537791860822836\n        ],\n        \"semantic_type\": \"\",\n        \"description\": \"\"\n      }\n    },\n    {\n      \"column\": \"BPL\",\n      \"properties\": {\n        \"dtype\": \"number\",\n        \"std\": 6.143059504735248,\n        \"min\": 1.9862953413087248,\n        \"max\": 35.99728129531004,\n        \"num_unique_values\": 4000,\n        \"samples\": [\n          19.50195563710608,\n          9.967248102302412,\n          19.71927265986072\n        ],\n        \"semantic_type\": \"\",\n        \"description\": \"\"\n      }\n    },\n    {\n      \"column\": \"PRICE\",\n      \"properties\": {\n        \"dtype\": \"number\",\n        \"std\": 8.633523119748661,\n        \"min\": 6.3482657858979215,\n        \"max\": 53.09025591497754,\n        \"num_unique_values\": 4000,\n        \"samples\": [\n          16.913047426817688,\n          25.04725435512905,\n          14.44370427335717\n        ],\n        \"semantic_type\": \"\",\n        \"description\": \"\"\n      }\n    },\n    {\n      \"column\": \"RIVERSIDE\",\n      \"properties\": {\n        \"dtype\": \"category\",\n        \"num_unique_values\": 3,\n        \"samples\": [\n          \"NO\",\n          \"UNKNOWN\",\n          \"YES\"\n        ],\n        \"semantic_type\": \"\",\n        \"description\": \"\"\n      }\n    }\n  ]\n}"
            }
          },
          "metadata": {},
          "execution_count": 17
        }
      ]
    },
    {
      "cell_type": "markdown",
      "source": [
        "What is the total number of missing or unknown values in the number of rooms feature?"
      ],
      "metadata": {
        "id": "MmsXRvg9ZZWM"
      }
    },
    {
      "cell_type": "code",
      "source": [
        "df['RM'].unique()"
      ],
      "metadata": {
        "colab": {
          "base_uri": "https://localhost:8080/"
        },
        "id": "T7Kaq6AnYwN2",
        "outputId": "2e8ea48f-76be-4072-ac7e-e7492fdf5c37"
      },
      "execution_count": 18,
      "outputs": [
        {
          "output_type": "execute_result",
          "data": {
            "text/plain": [
              "array([ 6.,  7.,  8.,  9., 10., -1.,  5.,  4., 11.])"
            ]
          },
          "metadata": {},
          "execution_count": 18
        }
      ]
    },
    {
      "cell_type": "code",
      "source": [
        "df['RM'].info()"
      ],
      "metadata": {
        "colab": {
          "base_uri": "https://localhost:8080/"
        },
        "id": "arVyFbT4ZpaO",
        "outputId": "1d48c628-ac2d-4b90-f6d1-ef9a4680dacd"
      },
      "execution_count": 22,
      "outputs": [
        {
          "output_type": "stream",
          "name": "stdout",
          "text": [
            "<class 'pandas.core.series.Series'>\n",
            "RangeIndex: 4000 entries, 0 to 3999\n",
            "Series name: RM\n",
            "Non-Null Count  Dtype  \n",
            "--------------  -----  \n",
            "4000 non-null   float64\n",
            "dtypes: float64(1)\n",
            "memory usage: 31.4 KB\n"
          ]
        }
      ]
    },
    {
      "cell_type": "code",
      "source": [
        "df['RM'][df['RM']==-1].count()"
      ],
      "metadata": {
        "colab": {
          "base_uri": "https://localhost:8080/"
        },
        "id": "vxbROrj3Y23K",
        "outputId": "49818984-d893-44ac-f5f4-1737e36c3b1a"
      },
      "execution_count": 21,
      "outputs": [
        {
          "output_type": "execute_result",
          "data": {
            "text/plain": [
              "40"
            ]
          },
          "metadata": {},
          "execution_count": 21
        }
      ]
    },
    {
      "cell_type": "markdown",
      "source": [
        "What is the total number of missing or unknown values in the age feature?"
      ],
      "metadata": {
        "id": "a9aiNGHxZgYf"
      }
    },
    {
      "cell_type": "code",
      "source": [
        "df['AGE'].unique()"
      ],
      "metadata": {
        "colab": {
          "base_uri": "https://localhost:8080/"
        },
        "id": "TfoA0oDwZf5Q",
        "outputId": "aa646eef-a410-4792-8e8f-da9265183b83"
      },
      "execution_count": 23,
      "outputs": [
        {
          "output_type": "execute_result",
          "data": {
            "text/plain": [
              "array([ 42.,  63.,  -2.,   9.,  20.,  95.,  35.,  97.,  36.,  78.,  99.,\n",
              "        96.,  19.,  73.,  86.,  37.,  76.,  50.,  32.,  92., 101.,   8.,\n",
              "        94.,  84.,  47.,  43.,  65.,  46.,  59.,  74.,  93.,  80.,  98.,\n",
              "       102.,  56., 100.,  89.,  53.,  18.,  71.,  62.,  83.,  66.,   7.,\n",
              "        77.,  91.,  90.,  58.,  57.,  60.,  87.,  75.,  34.,  85.,  48.,\n",
              "        33.,  38.,  30.,  23.,  55.,  11.,  14.,  45.,  41.,  88.,  16.,\n",
              "        12.,  79.,  67.,  39.,  49.,  61.,  70.,  54.,  10.,  22.,  72.,\n",
              "        15.,  51.,  81.,  31.,  52.,  44.,  28.,  17.,  40.,  29.,  69.,\n",
              "        64.,  24.,  82.,  26.,  68.,  27.,  13., 103.,  21.,  25.,   6.,\n",
              "         5.,   3.,   4.])"
            ]
          },
          "metadata": {},
          "execution_count": 23
        }
      ]
    },
    {
      "cell_type": "code",
      "source": [
        "df['AGE'][df['AGE']==-2].count()"
      ],
      "metadata": {
        "colab": {
          "base_uri": "https://localhost:8080/"
        },
        "id": "n9MAyGCraF-A",
        "outputId": "1f7bbad5-1fc2-4ee8-84d8-0a4c50edaeda"
      },
      "execution_count": 26,
      "outputs": [
        {
          "output_type": "execute_result",
          "data": {
            "text/plain": [
              "50"
            ]
          },
          "metadata": {},
          "execution_count": 26
        }
      ]
    },
    {
      "cell_type": "markdown",
      "source": [
        "What is the total number of missing or unknown values in the RIVERSIDE feature?"
      ],
      "metadata": {
        "id": "8ffOXC6yaPpp"
      }
    },
    {
      "cell_type": "code",
      "source": [
        "df['RIVERSIDE'].unique()"
      ],
      "metadata": {
        "colab": {
          "base_uri": "https://localhost:8080/"
        },
        "id": "almgvA3RaR7P",
        "outputId": "6c76bbbb-a72c-4594-f302-545504bee096"
      },
      "execution_count": 27,
      "outputs": [
        {
          "output_type": "execute_result",
          "data": {
            "text/plain": [
              "array(['NO', 'UNKNOWN', 'YES'], dtype=object)"
            ]
          },
          "metadata": {},
          "execution_count": 27
        }
      ]
    },
    {
      "cell_type": "code",
      "source": [
        "df['RIVERSIDE'][df['RIVERSIDE']=='UNKNOWN'].count()"
      ],
      "metadata": {
        "colab": {
          "base_uri": "https://localhost:8080/"
        },
        "id": "YYjmCwEbabNy",
        "outputId": "bfa25b7d-6d55-4df8-e7c3-a71c5cc6e74e"
      },
      "execution_count": 28,
      "outputs": [
        {
          "output_type": "execute_result",
          "data": {
            "text/plain": [
              "88"
            ]
          },
          "metadata": {},
          "execution_count": 28
        }
      ]
    },
    {
      "cell_type": "markdown",
      "source": [
        "How many houses are on riverside and were built within the last 50 years (i.e. a house 50 years old or younger)? For this question, ignore the rows that have missing values in either riverside feature or age feature."
      ],
      "metadata": {
        "id": "opEYKxSyayC0"
      }
    },
    {
      "cell_type": "code",
      "source": [
        "df[df['AGE'] != -2][df['RIVERSIDE'] != 'UNKNOWN'][df['AGE']<=50][df['RIVERSIDE']=='YES'].shape"
      ],
      "metadata": {
        "colab": {
          "base_uri": "https://localhost:8080/"
        },
        "id": "0H49OH9La1Fa",
        "outputId": "72da9070-423b-4e52-c38c-58d45a3ae7c0"
      },
      "execution_count": 43,
      "outputs": [
        {
          "output_type": "stream",
          "name": "stderr",
          "text": [
            "<ipython-input-43-c2bdf2dad0c5>:1: UserWarning: Boolean Series key will be reindexed to match DataFrame index.\n",
            "  df[df['AGE'] != -2][df['RIVERSIDE'] != 'UNKNOWN'][df['AGE']<=50][df['RIVERSIDE']=='YES'].shape\n",
            "<ipython-input-43-c2bdf2dad0c5>:1: UserWarning: Boolean Series key will be reindexed to match DataFrame index.\n",
            "  df[df['AGE'] != -2][df['RIVERSIDE'] != 'UNKNOWN'][df['AGE']<=50][df['RIVERSIDE']=='YES'].shape\n",
            "<ipython-input-43-c2bdf2dad0c5>:1: UserWarning: Boolean Series key will be reindexed to match DataFrame index.\n",
            "  df[df['AGE'] != -2][df['RIVERSIDE'] != 'UNKNOWN'][df['AGE']<=50][df['RIVERSIDE']=='YES'].shape\n"
          ]
        },
        {
          "output_type": "execute_result",
          "data": {
            "text/plain": [
              "(44, 14)"
            ]
          },
          "metadata": {},
          "execution_count": 43
        }
      ]
    },
    {
      "cell_type": "markdown",
      "source": [
        "How many houses are near to exactly 6, 7 or 8 highways (all three inclusive)?"
      ],
      "metadata": {
        "id": "gK91s-v0dQQ2"
      }
    },
    {
      "cell_type": "code",
      "source": [
        "df[(df['HIGHWAYCOUNT'] == 6)|(df['HIGHWAYCOUNT'] == 7)|(df['HIGHWAYCOUNT'] == 8)].shape[0]"
      ],
      "metadata": {
        "colab": {
          "base_uri": "https://localhost:8080/"
        },
        "id": "OhSgVXgRc2OV",
        "outputId": "a6da1b08-2c04-4e65-8a3e-931d30b6a6cf"
      },
      "execution_count": 46,
      "outputs": [
        {
          "output_type": "execute_result",
          "data": {
            "text/plain": [
              "1211"
            ]
          },
          "metadata": {},
          "execution_count": 46
        }
      ]
    },
    {
      "cell_type": "markdown",
      "source": [
        "Create a column 'CATEGORY' and divide the houses in categories as following:\n",
        "\n",
        "Category 1: house price <10 lacs\n",
        "\n",
        "Category 2: 10 lacs <= house price <20 lacs\n",
        "\n",
        "Category 3: 20 lacs <= house price <30 lacs\n",
        "\n",
        "Category 4: 30 lacs <= house price <40 lacs\n",
        "\n",
        "Category 5: house price >=40 lacs\n",
        "\n",
        "\n",
        "Which category has the highest number of records?"
      ],
      "metadata": {
        "id": "qVyO4l5KeH-u"
      }
    },
    {
      "cell_type": "code",
      "source": [
        "def categorize(price):\n",
        "  if price < 10:\n",
        "    return 1\n",
        "  elif price >= 10 and price < 20:\n",
        "    return 2\n",
        "  elif price >= 20 and price < 30:\n",
        "    return 3\n",
        "  elif price >= 30 and price < 40:\n",
        "    return 4\n",
        "  elif price >= 40:\n",
        "    return 5"
      ],
      "metadata": {
        "id": "ImUHDV9qeK5p"
      },
      "execution_count": 55,
      "outputs": []
    },
    {
      "cell_type": "code",
      "source": [
        "df['CATEGORY'] = df['PRICE'].apply(categorize)"
      ],
      "metadata": {
        "id": "75qc79thel_r"
      },
      "execution_count": 56,
      "outputs": []
    },
    {
      "cell_type": "code",
      "source": [
        "df.head()"
      ],
      "metadata": {
        "colab": {
          "base_uri": "https://localhost:8080/",
          "height": 206
        },
        "id": "SHrHzLdIexwD",
        "outputId": "0e7e56da-5a33-4d21-9712-997d0f447f62"
      },
      "execution_count": 57,
      "outputs": [
        {
          "output_type": "execute_result",
          "data": {
            "text/plain": [
              "        CRIM         ZN      INDUS  POLINDEX   RM   AGE        DIS  \\\n",
              "0   1.026769   1.429034   7.851300  1.134216  6.0  42.0   5.251911   \n",
              "1   0.848089   0.255543   6.263434  1.245993  7.0  63.0   4.305546   \n",
              "2  10.925905   0.441022  18.322960  2.824833  8.0  -2.0   2.409495   \n",
              "3   0.559027   1.041175  11.114920  0.794952  6.0   9.0   6.898669   \n",
              "4   0.905063  81.167963   3.673369  1.029030  8.0  20.0  10.246463   \n",
              "\n",
              "   HIGHWAYCOUNT         TAX    PTRATIO         IMM        BPL      PRICE  \\\n",
              "0             5  279.201277  20.689586  398.811960  10.461456  22.991633   \n",
              "1             8  307.444529  17.465398  377.153649  11.619690  24.551055   \n",
              "2            25  666.492973  20.351601  387.061355  19.366070  15.875346   \n",
              "3             4  305.514181  19.787314  391.778647   6.206820  23.007756   \n",
              "4             1  315.913960  17.360439  395.833166  10.827105  21.503177   \n",
              "\n",
              "  RIVERSIDE  CATEGORY  \n",
              "0        NO         3  \n",
              "1        NO         3  \n",
              "2        NO         2  \n",
              "3        NO         3  \n",
              "4        NO         3  "
            ],
            "text/html": [
              "\n",
              "  <div id=\"df-3aded163-8fca-406a-a217-85747f4ca82c\" class=\"colab-df-container\">\n",
              "    <div>\n",
              "<style scoped>\n",
              "    .dataframe tbody tr th:only-of-type {\n",
              "        vertical-align: middle;\n",
              "    }\n",
              "\n",
              "    .dataframe tbody tr th {\n",
              "        vertical-align: top;\n",
              "    }\n",
              "\n",
              "    .dataframe thead th {\n",
              "        text-align: right;\n",
              "    }\n",
              "</style>\n",
              "<table border=\"1\" class=\"dataframe\">\n",
              "  <thead>\n",
              "    <tr style=\"text-align: right;\">\n",
              "      <th></th>\n",
              "      <th>CRIM</th>\n",
              "      <th>ZN</th>\n",
              "      <th>INDUS</th>\n",
              "      <th>POLINDEX</th>\n",
              "      <th>RM</th>\n",
              "      <th>AGE</th>\n",
              "      <th>DIS</th>\n",
              "      <th>HIGHWAYCOUNT</th>\n",
              "      <th>TAX</th>\n",
              "      <th>PTRATIO</th>\n",
              "      <th>IMM</th>\n",
              "      <th>BPL</th>\n",
              "      <th>PRICE</th>\n",
              "      <th>RIVERSIDE</th>\n",
              "      <th>CATEGORY</th>\n",
              "    </tr>\n",
              "  </thead>\n",
              "  <tbody>\n",
              "    <tr>\n",
              "      <th>0</th>\n",
              "      <td>1.026769</td>\n",
              "      <td>1.429034</td>\n",
              "      <td>7.851300</td>\n",
              "      <td>1.134216</td>\n",
              "      <td>6.0</td>\n",
              "      <td>42.0</td>\n",
              "      <td>5.251911</td>\n",
              "      <td>5</td>\n",
              "      <td>279.201277</td>\n",
              "      <td>20.689586</td>\n",
              "      <td>398.811960</td>\n",
              "      <td>10.461456</td>\n",
              "      <td>22.991633</td>\n",
              "      <td>NO</td>\n",
              "      <td>3</td>\n",
              "    </tr>\n",
              "    <tr>\n",
              "      <th>1</th>\n",
              "      <td>0.848089</td>\n",
              "      <td>0.255543</td>\n",
              "      <td>6.263434</td>\n",
              "      <td>1.245993</td>\n",
              "      <td>7.0</td>\n",
              "      <td>63.0</td>\n",
              "      <td>4.305546</td>\n",
              "      <td>8</td>\n",
              "      <td>307.444529</td>\n",
              "      <td>17.465398</td>\n",
              "      <td>377.153649</td>\n",
              "      <td>11.619690</td>\n",
              "      <td>24.551055</td>\n",
              "      <td>NO</td>\n",
              "      <td>3</td>\n",
              "    </tr>\n",
              "    <tr>\n",
              "      <th>2</th>\n",
              "      <td>10.925905</td>\n",
              "      <td>0.441022</td>\n",
              "      <td>18.322960</td>\n",
              "      <td>2.824833</td>\n",
              "      <td>8.0</td>\n",
              "      <td>-2.0</td>\n",
              "      <td>2.409495</td>\n",
              "      <td>25</td>\n",
              "      <td>666.492973</td>\n",
              "      <td>20.351601</td>\n",
              "      <td>387.061355</td>\n",
              "      <td>19.366070</td>\n",
              "      <td>15.875346</td>\n",
              "      <td>NO</td>\n",
              "      <td>2</td>\n",
              "    </tr>\n",
              "    <tr>\n",
              "      <th>3</th>\n",
              "      <td>0.559027</td>\n",
              "      <td>1.041175</td>\n",
              "      <td>11.114920</td>\n",
              "      <td>0.794952</td>\n",
              "      <td>6.0</td>\n",
              "      <td>9.0</td>\n",
              "      <td>6.898669</td>\n",
              "      <td>4</td>\n",
              "      <td>305.514181</td>\n",
              "      <td>19.787314</td>\n",
              "      <td>391.778647</td>\n",
              "      <td>6.206820</td>\n",
              "      <td>23.007756</td>\n",
              "      <td>NO</td>\n",
              "      <td>3</td>\n",
              "    </tr>\n",
              "    <tr>\n",
              "      <th>4</th>\n",
              "      <td>0.905063</td>\n",
              "      <td>81.167963</td>\n",
              "      <td>3.673369</td>\n",
              "      <td>1.029030</td>\n",
              "      <td>8.0</td>\n",
              "      <td>20.0</td>\n",
              "      <td>10.246463</td>\n",
              "      <td>1</td>\n",
              "      <td>315.913960</td>\n",
              "      <td>17.360439</td>\n",
              "      <td>395.833166</td>\n",
              "      <td>10.827105</td>\n",
              "      <td>21.503177</td>\n",
              "      <td>NO</td>\n",
              "      <td>3</td>\n",
              "    </tr>\n",
              "  </tbody>\n",
              "</table>\n",
              "</div>\n",
              "    <div class=\"colab-df-buttons\">\n",
              "\n",
              "  <div class=\"colab-df-container\">\n",
              "    <button class=\"colab-df-convert\" onclick=\"convertToInteractive('df-3aded163-8fca-406a-a217-85747f4ca82c')\"\n",
              "            title=\"Convert this dataframe to an interactive table.\"\n",
              "            style=\"display:none;\">\n",
              "\n",
              "  <svg xmlns=\"http://www.w3.org/2000/svg\" height=\"24px\" viewBox=\"0 -960 960 960\">\n",
              "    <path d=\"M120-120v-720h720v720H120Zm60-500h600v-160H180v160Zm220 220h160v-160H400v160Zm0 220h160v-160H400v160ZM180-400h160v-160H180v160Zm440 0h160v-160H620v160ZM180-180h160v-160H180v160Zm440 0h160v-160H620v160Z\"/>\n",
              "  </svg>\n",
              "    </button>\n",
              "\n",
              "  <style>\n",
              "    .colab-df-container {\n",
              "      display:flex;\n",
              "      gap: 12px;\n",
              "    }\n",
              "\n",
              "    .colab-df-convert {\n",
              "      background-color: #E8F0FE;\n",
              "      border: none;\n",
              "      border-radius: 50%;\n",
              "      cursor: pointer;\n",
              "      display: none;\n",
              "      fill: #1967D2;\n",
              "      height: 32px;\n",
              "      padding: 0 0 0 0;\n",
              "      width: 32px;\n",
              "    }\n",
              "\n",
              "    .colab-df-convert:hover {\n",
              "      background-color: #E2EBFA;\n",
              "      box-shadow: 0px 1px 2px rgba(60, 64, 67, 0.3), 0px 1px 3px 1px rgba(60, 64, 67, 0.15);\n",
              "      fill: #174EA6;\n",
              "    }\n",
              "\n",
              "    .colab-df-buttons div {\n",
              "      margin-bottom: 4px;\n",
              "    }\n",
              "\n",
              "    [theme=dark] .colab-df-convert {\n",
              "      background-color: #3B4455;\n",
              "      fill: #D2E3FC;\n",
              "    }\n",
              "\n",
              "    [theme=dark] .colab-df-convert:hover {\n",
              "      background-color: #434B5C;\n",
              "      box-shadow: 0px 1px 3px 1px rgba(0, 0, 0, 0.15);\n",
              "      filter: drop-shadow(0px 1px 2px rgba(0, 0, 0, 0.3));\n",
              "      fill: #FFFFFF;\n",
              "    }\n",
              "  </style>\n",
              "\n",
              "    <script>\n",
              "      const buttonEl =\n",
              "        document.querySelector('#df-3aded163-8fca-406a-a217-85747f4ca82c button.colab-df-convert');\n",
              "      buttonEl.style.display =\n",
              "        google.colab.kernel.accessAllowed ? 'block' : 'none';\n",
              "\n",
              "      async function convertToInteractive(key) {\n",
              "        const element = document.querySelector('#df-3aded163-8fca-406a-a217-85747f4ca82c');\n",
              "        const dataTable =\n",
              "          await google.colab.kernel.invokeFunction('convertToInteractive',\n",
              "                                                    [key], {});\n",
              "        if (!dataTable) return;\n",
              "\n",
              "        const docLinkHtml = 'Like what you see? Visit the ' +\n",
              "          '<a target=\"_blank\" href=https://colab.research.google.com/notebooks/data_table.ipynb>data table notebook</a>'\n",
              "          + ' to learn more about interactive tables.';\n",
              "        element.innerHTML = '';\n",
              "        dataTable['output_type'] = 'display_data';\n",
              "        await google.colab.output.renderOutput(dataTable, element);\n",
              "        const docLink = document.createElement('div');\n",
              "        docLink.innerHTML = docLinkHtml;\n",
              "        element.appendChild(docLink);\n",
              "      }\n",
              "    </script>\n",
              "  </div>\n",
              "\n",
              "\n",
              "<div id=\"df-ca08809f-5c97-4e6f-ab34-99cfa44d5632\">\n",
              "  <button class=\"colab-df-quickchart\" onclick=\"quickchart('df-ca08809f-5c97-4e6f-ab34-99cfa44d5632')\"\n",
              "            title=\"Suggest charts\"\n",
              "            style=\"display:none;\">\n",
              "\n",
              "<svg xmlns=\"http://www.w3.org/2000/svg\" height=\"24px\"viewBox=\"0 0 24 24\"\n",
              "     width=\"24px\">\n",
              "    <g>\n",
              "        <path d=\"M19 3H5c-1.1 0-2 .9-2 2v14c0 1.1.9 2 2 2h14c1.1 0 2-.9 2-2V5c0-1.1-.9-2-2-2zM9 17H7v-7h2v7zm4 0h-2V7h2v10zm4 0h-2v-4h2v4z\"/>\n",
              "    </g>\n",
              "</svg>\n",
              "  </button>\n",
              "\n",
              "<style>\n",
              "  .colab-df-quickchart {\n",
              "      --bg-color: #E8F0FE;\n",
              "      --fill-color: #1967D2;\n",
              "      --hover-bg-color: #E2EBFA;\n",
              "      --hover-fill-color: #174EA6;\n",
              "      --disabled-fill-color: #AAA;\n",
              "      --disabled-bg-color: #DDD;\n",
              "  }\n",
              "\n",
              "  [theme=dark] .colab-df-quickchart {\n",
              "      --bg-color: #3B4455;\n",
              "      --fill-color: #D2E3FC;\n",
              "      --hover-bg-color: #434B5C;\n",
              "      --hover-fill-color: #FFFFFF;\n",
              "      --disabled-bg-color: #3B4455;\n",
              "      --disabled-fill-color: #666;\n",
              "  }\n",
              "\n",
              "  .colab-df-quickchart {\n",
              "    background-color: var(--bg-color);\n",
              "    border: none;\n",
              "    border-radius: 50%;\n",
              "    cursor: pointer;\n",
              "    display: none;\n",
              "    fill: var(--fill-color);\n",
              "    height: 32px;\n",
              "    padding: 0;\n",
              "    width: 32px;\n",
              "  }\n",
              "\n",
              "  .colab-df-quickchart:hover {\n",
              "    background-color: var(--hover-bg-color);\n",
              "    box-shadow: 0 1px 2px rgba(60, 64, 67, 0.3), 0 1px 3px 1px rgba(60, 64, 67, 0.15);\n",
              "    fill: var(--button-hover-fill-color);\n",
              "  }\n",
              "\n",
              "  .colab-df-quickchart-complete:disabled,\n",
              "  .colab-df-quickchart-complete:disabled:hover {\n",
              "    background-color: var(--disabled-bg-color);\n",
              "    fill: var(--disabled-fill-color);\n",
              "    box-shadow: none;\n",
              "  }\n",
              "\n",
              "  .colab-df-spinner {\n",
              "    border: 2px solid var(--fill-color);\n",
              "    border-color: transparent;\n",
              "    border-bottom-color: var(--fill-color);\n",
              "    animation:\n",
              "      spin 1s steps(1) infinite;\n",
              "  }\n",
              "\n",
              "  @keyframes spin {\n",
              "    0% {\n",
              "      border-color: transparent;\n",
              "      border-bottom-color: var(--fill-color);\n",
              "      border-left-color: var(--fill-color);\n",
              "    }\n",
              "    20% {\n",
              "      border-color: transparent;\n",
              "      border-left-color: var(--fill-color);\n",
              "      border-top-color: var(--fill-color);\n",
              "    }\n",
              "    30% {\n",
              "      border-color: transparent;\n",
              "      border-left-color: var(--fill-color);\n",
              "      border-top-color: var(--fill-color);\n",
              "      border-right-color: var(--fill-color);\n",
              "    }\n",
              "    40% {\n",
              "      border-color: transparent;\n",
              "      border-right-color: var(--fill-color);\n",
              "      border-top-color: var(--fill-color);\n",
              "    }\n",
              "    60% {\n",
              "      border-color: transparent;\n",
              "      border-right-color: var(--fill-color);\n",
              "    }\n",
              "    80% {\n",
              "      border-color: transparent;\n",
              "      border-right-color: var(--fill-color);\n",
              "      border-bottom-color: var(--fill-color);\n",
              "    }\n",
              "    90% {\n",
              "      border-color: transparent;\n",
              "      border-bottom-color: var(--fill-color);\n",
              "    }\n",
              "  }\n",
              "</style>\n",
              "\n",
              "  <script>\n",
              "    async function quickchart(key) {\n",
              "      const quickchartButtonEl =\n",
              "        document.querySelector('#' + key + ' button');\n",
              "      quickchartButtonEl.disabled = true;  // To prevent multiple clicks.\n",
              "      quickchartButtonEl.classList.add('colab-df-spinner');\n",
              "      try {\n",
              "        const charts = await google.colab.kernel.invokeFunction(\n",
              "            'suggestCharts', [key], {});\n",
              "      } catch (error) {\n",
              "        console.error('Error during call to suggestCharts:', error);\n",
              "      }\n",
              "      quickchartButtonEl.classList.remove('colab-df-spinner');\n",
              "      quickchartButtonEl.classList.add('colab-df-quickchart-complete');\n",
              "    }\n",
              "    (() => {\n",
              "      let quickchartButtonEl =\n",
              "        document.querySelector('#df-ca08809f-5c97-4e6f-ab34-99cfa44d5632 button');\n",
              "      quickchartButtonEl.style.display =\n",
              "        google.colab.kernel.accessAllowed ? 'block' : 'none';\n",
              "    })();\n",
              "  </script>\n",
              "</div>\n",
              "\n",
              "    </div>\n",
              "  </div>\n"
            ],
            "application/vnd.google.colaboratory.intrinsic+json": {
              "type": "dataframe",
              "variable_name": "df",
              "summary": "{\n  \"name\": \"df\",\n  \"rows\": 4000,\n  \"fields\": [\n    {\n      \"column\": \"CRIM\",\n      \"properties\": {\n        \"dtype\": \"number\",\n        \"std\": 2.4756462622728774,\n        \"min\": 0.0310930438582509,\n        \"max\": 12.619405277902771,\n        \"num_unique_values\": 4000,\n        \"samples\": [\n          10.831224921095714,\n          0.953207752853487,\n          5.781132959514714\n        ],\n        \"semantic_type\": \"\",\n        \"description\": \"\"\n      }\n    },\n    {\n      \"column\": \"ZN\",\n      \"properties\": {\n        \"dtype\": \"number\",\n        \"std\": 23.312648793994484,\n        \"min\": 0.0002814402235964,\n        \"max\": 101.67073973465143,\n        \"num_unique_values\": 4000,\n        \"samples\": [\n          0.4565955423160071,\n          22.58564221235115,\n          0.5626399885644546\n        ],\n        \"semantic_type\": \"\",\n        \"description\": \"\"\n      }\n    },\n    {\n      \"column\": \"INDUS\",\n      \"properties\": {\n        \"dtype\": \"number\",\n        \"std\": 6.827508528281335,\n        \"min\": 0.6333879398140939,\n        \"max\": 30.36720906351064,\n        \"num_unique_values\": 4000,\n        \"samples\": [\n          18.3465226507992,\n          6.370536592918024,\n          19.6492039971422\n        ],\n        \"semantic_type\": \"\",\n        \"description\": \"\"\n      }\n    },\n    {\n      \"column\": \"POLINDEX\",\n      \"properties\": {\n        \"dtype\": \"number\",\n        \"std\": 0.6010235583614255,\n        \"min\": 0.4050847999570661,\n        \"max\": 4.156570046265983,\n        \"num_unique_values\": 4000,\n        \"samples\": [\n          0.8787669990613265,\n          1.3178252880593984,\n          2.383613383451163\n        ],\n        \"semantic_type\": \"\",\n        \"description\": \"\"\n      }\n    },\n    {\n      \"column\": \"RM\",\n      \"properties\": {\n        \"dtype\": \"number\",\n        \"std\": 1.240525886920178,\n        \"min\": -1.0,\n        \"max\": 11.0,\n        \"num_unique_values\": 9,\n        \"samples\": [\n          4.0,\n          7.0,\n          -1.0\n        ],\n        \"semantic_type\": \"\",\n        \"description\": \"\"\n      }\n    },\n    {\n      \"column\": \"AGE\",\n      \"properties\": {\n        \"dtype\": \"number\",\n        \"std\": 29.10092250982311,\n        \"min\": -2.0,\n        \"max\": 103.0,\n        \"num_unique_values\": 102,\n        \"samples\": [\n          93.0,\n          79.0,\n          45.0\n        ],\n        \"semantic_type\": \"\",\n        \"description\": \"\"\n      }\n    },\n    {\n      \"column\": \"DIS\",\n      \"properties\": {\n        \"dtype\": \"number\",\n        \"std\": 2.174427190759426,\n        \"min\": 1.163081974016663,\n        \"max\": 14.045317837400347,\n        \"num_unique_values\": 4000,\n        \"samples\": [\n          2.121423729026626,\n          8.360003011817742,\n          3.276015197630771\n        ],\n        \"semantic_type\": \"\",\n        \"description\": \"\"\n      }\n    },\n    {\n      \"column\": \"HIGHWAYCOUNT\",\n      \"properties\": {\n        \"dtype\": \"number\",\n        \"std\": 7,\n        \"min\": 1,\n        \"max\": 27,\n        \"num_unique_values\": 15,\n        \"samples\": [\n          3,\n          10,\n          5\n        ],\n        \"semantic_type\": \"\",\n        \"description\": \"\"\n      }\n    },\n    {\n      \"column\": \"TAX\",\n      \"properties\": {\n        \"dtype\": \"number\",\n        \"std\": 150.270818062805,\n        \"min\": 187.0250989029544,\n        \"max\": 713.0281332130706,\n        \"num_unique_values\": 4000,\n        \"samples\": [\n          666.7737254901376,\n          330.2367374981048,\n          666.8191889914782\n        ],\n        \"semantic_type\": \"\",\n        \"description\": \"\"\n      }\n    },\n    {\n      \"column\": \"PTRATIO\",\n      \"properties\": {\n        \"dtype\": \"number\",\n        \"std\": 2.2672931299145693,\n        \"min\": 12.641899141366697,\n        \"max\": 24.322091262098887,\n        \"num_unique_values\": 4000,\n        \"samples\": [\n          20.3751522578949,\n          20.27653854707035,\n          21.379232569949977\n        ],\n        \"semantic_type\": \"\",\n        \"description\": \"\"\n      }\n    },\n    {\n      \"column\": \"IMM\",\n      \"properties\": {\n        \"dtype\": \"number\",\n        \"std\": 67.68758632464606,\n        \"min\": 0.5329802728126296,\n        \"max\": 400.7805827462825,\n        \"num_unique_values\": 4000,\n        \"samples\": [\n          387.7735652778036,\n          390.541475574156,\n          10.537791860822836\n        ],\n        \"semantic_type\": \"\",\n        \"description\": \"\"\n      }\n    },\n    {\n      \"column\": \"BPL\",\n      \"properties\": {\n        \"dtype\": \"number\",\n        \"std\": 6.143059504735248,\n        \"min\": 1.9862953413087248,\n        \"max\": 35.99728129531004,\n        \"num_unique_values\": 4000,\n        \"samples\": [\n          19.50195563710608,\n          9.967248102302412,\n          19.71927265986072\n        ],\n        \"semantic_type\": \"\",\n        \"description\": \"\"\n      }\n    },\n    {\n      \"column\": \"PRICE\",\n      \"properties\": {\n        \"dtype\": \"number\",\n        \"std\": 8.633523119748661,\n        \"min\": 6.3482657858979215,\n        \"max\": 53.09025591497754,\n        \"num_unique_values\": 4000,\n        \"samples\": [\n          16.913047426817688,\n          25.04725435512905,\n          14.44370427335717\n        ],\n        \"semantic_type\": \"\",\n        \"description\": \"\"\n      }\n    },\n    {\n      \"column\": \"RIVERSIDE\",\n      \"properties\": {\n        \"dtype\": \"category\",\n        \"num_unique_values\": 3,\n        \"samples\": [\n          \"NO\",\n          \"UNKNOWN\",\n          \"YES\"\n        ],\n        \"semantic_type\": \"\",\n        \"description\": \"\"\n      }\n    },\n    {\n      \"column\": \"CATEGORY\",\n      \"properties\": {\n        \"dtype\": \"number\",\n        \"std\": 0,\n        \"min\": 1,\n        \"max\": 5,\n        \"num_unique_values\": 5,\n        \"samples\": [\n          2,\n          1,\n          5\n        ],\n        \"semantic_type\": \"\",\n        \"description\": \"\"\n      }\n    }\n  ]\n}"
            }
          },
          "metadata": {},
          "execution_count": 57
        }
      ]
    },
    {
      "cell_type": "code",
      "source": [
        "df['CATEGORY'].value_counts()"
      ],
      "metadata": {
        "colab": {
          "base_uri": "https://localhost:8080/",
          "height": 272
        },
        "id": "zOYnIMLHe1Oq",
        "outputId": "e5884455-11ad-4d1b-e87d-3c7d1c51c6ab"
      },
      "execution_count": 58,
      "outputs": [
        {
          "output_type": "execute_result",
          "data": {
            "text/plain": [
              "CATEGORY\n",
              "3    2028\n",
              "2    1158\n",
              "4     503\n",
              "5     268\n",
              "1      43\n",
              "Name: count, dtype: int64"
            ],
            "text/html": [
              "<div>\n",
              "<style scoped>\n",
              "    .dataframe tbody tr th:only-of-type {\n",
              "        vertical-align: middle;\n",
              "    }\n",
              "\n",
              "    .dataframe tbody tr th {\n",
              "        vertical-align: top;\n",
              "    }\n",
              "\n",
              "    .dataframe thead th {\n",
              "        text-align: right;\n",
              "    }\n",
              "</style>\n",
              "<table border=\"1\" class=\"dataframe\">\n",
              "  <thead>\n",
              "    <tr style=\"text-align: right;\">\n",
              "      <th></th>\n",
              "      <th>count</th>\n",
              "    </tr>\n",
              "    <tr>\n",
              "      <th>CATEGORY</th>\n",
              "      <th></th>\n",
              "    </tr>\n",
              "  </thead>\n",
              "  <tbody>\n",
              "    <tr>\n",
              "      <th>3</th>\n",
              "      <td>2028</td>\n",
              "    </tr>\n",
              "    <tr>\n",
              "      <th>2</th>\n",
              "      <td>1158</td>\n",
              "    </tr>\n",
              "    <tr>\n",
              "      <th>4</th>\n",
              "      <td>503</td>\n",
              "    </tr>\n",
              "    <tr>\n",
              "      <th>5</th>\n",
              "      <td>268</td>\n",
              "    </tr>\n",
              "    <tr>\n",
              "      <th>1</th>\n",
              "      <td>43</td>\n",
              "    </tr>\n",
              "  </tbody>\n",
              "</table>\n",
              "</div><br><label><b>dtype:</b> int64</label>"
            ]
          },
          "metadata": {},
          "execution_count": 58
        }
      ]
    },
    {
      "cell_type": "markdown",
      "source": [
        "Divide the data into training and test sets\n",
        "\n",
        "1. Replace the respective missing or unknown values in features room count, riverside and age with np.nan.\n",
        "\n",
        "2. Keep 30% of the data as test set.\n",
        "\n",
        "3. Use random_state as 0\n",
        "\n",
        "4. PRICE is the target, rest of the columns are the features.\n",
        "\n",
        "5. Apply train test split.\n",
        "\n",
        "Hint: look for the documentation of the usual function that divides the data into training and test datasets.\n",
        "\n",
        "What is the number of samples in the training set?"
      ],
      "metadata": {
        "id": "Pxcet_8OfM2_"
      }
    },
    {
      "cell_type": "code",
      "source": [
        "df['AGE'] = df['AGE'].replace(-2,np.nan)\n",
        "df['RIVERSIDE'] = df['RIVERSIDE'].replace('UNKNOWN',np.nan)\n",
        "df['RM'] = df['RM'].replace(-1,np.nan)"
      ],
      "metadata": {
        "id": "WMUc6fsvfMY1"
      },
      "execution_count": 61,
      "outputs": []
    },
    {
      "cell_type": "code",
      "source": [
        "from sklearn.model_selection import train_test_split"
      ],
      "metadata": {
        "id": "Sw43iF4dgU-c"
      },
      "execution_count": 65,
      "outputs": []
    },
    {
      "cell_type": "code",
      "source": [
        "xtrain, xtest, ytrain ,ytest = train_test_split(df.drop('PRICE',axis=1),df['PRICE'],test_size=0.3,random_state=0)"
      ],
      "metadata": {
        "id": "XBBpDlG0gYa9"
      },
      "execution_count": 69,
      "outputs": []
    },
    {
      "cell_type": "code",
      "source": [
        "xtrain.shape"
      ],
      "metadata": {
        "colab": {
          "base_uri": "https://localhost:8080/"
        },
        "id": "v1xkh4P3g3VL",
        "outputId": "78aef23b-d8c0-4a37-94e1-290ccfc484ed"
      },
      "execution_count": 71,
      "outputs": [
        {
          "output_type": "execute_result",
          "data": {
            "text/plain": [
              "(2800, 14)"
            ]
          },
          "metadata": {},
          "execution_count": 71
        }
      ]
    },
    {
      "cell_type": "markdown",
      "source": [
        "Apply following preprocessing steps:\n",
        "\n",
        "1. Drop CATEGORY column\n",
        "2. CRIM: min max scaling\n",
        "3. ZN: min max scaling\n",
        "4. INDUS: standard scaling\n",
        "5. POLINDEX: min max scaling\n",
        "6. DIS: min max scaling\n",
        "7. HIGHWAYCOUNT: min max scaling\n",
        "8. TAX: min max scaling\n",
        "9. PTRATIO: min max scaling\n",
        "10. IMM: min max scaling\n",
        "11. BPL: min max scaling\n",
        "12. RM: impute with median then min max scaling\n",
        "13. AGE: impute with mean then min max scaling\n",
        "14. RIVERSIDE: Impute with most frequent value then one hot encode.\n",
        "\n",
        "NOTE:\n",
        "1. Make sure to preprocess the features in exactly above order. Answer of Q.16 depends upon correct order of featuring processing.\n",
        "2. You may have to use multiple instances of a trasnformer for this question.\n",
        "\n",
        "\n",
        "How many features are there after performing above transformation?"
      ],
      "metadata": {
        "id": "vqjlRxbihAEH"
      }
    },
    {
      "cell_type": "code",
      "source": [
        "xtest.columns"
      ],
      "metadata": {
        "colab": {
          "base_uri": "https://localhost:8080/"
        },
        "id": "DCNTqjpghDwF",
        "outputId": "f0536422-62a2-4c86-dd9d-2038693a2886"
      },
      "execution_count": 72,
      "outputs": [
        {
          "output_type": "execute_result",
          "data": {
            "text/plain": [
              "Index(['CRIM', 'ZN', 'INDUS', 'POLINDEX', 'RM', 'AGE', 'DIS', 'HIGHWAYCOUNT',\n",
              "       'TAX', 'PTRATIO', 'IMM', 'BPL', 'RIVERSIDE', 'CATEGORY'],\n",
              "      dtype='object')"
            ]
          },
          "metadata": {},
          "execution_count": 72
        }
      ]
    },
    {
      "cell_type": "markdown",
      "source": [
        "What is the mean of the transformed test data (features only)?\n",
        "Note : Compute the mean of the whole feature matrix i.e. mean of all values in the transformed test feature matrix"
      ],
      "metadata": {
        "id": "Qa_SQ8Zxh5HM"
      }
    },
    {
      "cell_type": "code",
      "source": [
        "from sklearn.compose import ColumnTransformer\n",
        "from sklearn.preprocessing import MinMaxScaler, StandardScaler, OneHotEncoder\n",
        "from sklearn.impute import SimpleImputer"
      ],
      "metadata": {
        "id": "7d5DylmYh8oE"
      },
      "execution_count": 80,
      "outputs": []
    },
    {
      "cell_type": "code",
      "source": [
        "xtrain = xtrain.drop('CATEGORY',axis=1)\n",
        "xtest = xtest.drop('CATEGORY',axis=1)"
      ],
      "metadata": {
        "id": "mY8ZRNojjR2N"
      },
      "execution_count": 81,
      "outputs": []
    },
    {
      "cell_type": "code",
      "source": [
        "min_max = MinMaxScaler()\n",
        "standard = StandardScaler()\n",
        "one_hot = OneHotEncoder()\n",
        "median = SimpleImputer(strategy='median')\n",
        "mean = SimpleImputer(strategy='mean')\n",
        "mode = SimpleImputer(strategy='most_frequent')\n"
      ],
      "metadata": {
        "id": "yaqhI2aAjhbr"
      },
      "execution_count": 84,
      "outputs": []
    },
    {
      "cell_type": "code",
      "source": [
        "transformer = ColumnTransformer(\n",
        "    [ 'd', min_max, ['CRIM','ZN','DIS','POLINDEX','HIGHWAYCOUNT','TAX','PTRATIO','IMM','BPL'] ],\n",
        "    [ 'e',standard, ['INDUS'] ],\n",
        "    remainder='passthrough'\n",
        ")\n",
        "xtrain = transformer.fit_transform(xtrain)\n",
        "xtest = transformer.transform(xtest)"
      ],
      "metadata": {
        "colab": {
          "base_uri": "https://localhost:8080/",
          "height": 211
        },
        "id": "xpIz0OdHjFQr",
        "outputId": "52419be9-386d-4307-a764-aa0e441a9317"
      },
      "execution_count": 89,
      "outputs": [
        {
          "output_type": "error",
          "ename": "TypeError",
          "evalue": "ColumnTransformer.__init__() takes 2 positional arguments but 3 positional arguments (and 1 keyword-only argument) were given",
          "traceback": [
            "\u001b[0;31m---------------------------------------------------------------------------\u001b[0m",
            "\u001b[0;31mTypeError\u001b[0m                                 Traceback (most recent call last)",
            "\u001b[0;32m<ipython-input-89-6569ba52f4f1>\u001b[0m in \u001b[0;36m<cell line: 0>\u001b[0;34m()\u001b[0m\n\u001b[0;32m----> 1\u001b[0;31m transformer = ColumnTransformer(\n\u001b[0m\u001b[1;32m      2\u001b[0m     \u001b[0;34m[\u001b[0m \u001b[0;34m'd'\u001b[0m\u001b[0;34m,\u001b[0m \u001b[0mmin_max\u001b[0m\u001b[0;34m,\u001b[0m \u001b[0;34m[\u001b[0m\u001b[0;34m'CRIM'\u001b[0m\u001b[0;34m,\u001b[0m\u001b[0;34m'ZN'\u001b[0m\u001b[0;34m,\u001b[0m\u001b[0;34m'DIS'\u001b[0m\u001b[0;34m,\u001b[0m\u001b[0;34m'POLINDEX'\u001b[0m\u001b[0;34m,\u001b[0m\u001b[0;34m'HIGHWAYCOUNT'\u001b[0m\u001b[0;34m,\u001b[0m\u001b[0;34m'TAX'\u001b[0m\u001b[0;34m,\u001b[0m\u001b[0;34m'PTRATIO'\u001b[0m\u001b[0;34m,\u001b[0m\u001b[0;34m'IMM'\u001b[0m\u001b[0;34m,\u001b[0m\u001b[0;34m'BPL'\u001b[0m\u001b[0;34m]\u001b[0m \u001b[0;34m]\u001b[0m\u001b[0;34m,\u001b[0m\u001b[0;34m\u001b[0m\u001b[0;34m\u001b[0m\u001b[0m\n\u001b[1;32m      3\u001b[0m     \u001b[0;34m[\u001b[0m \u001b[0;34m'e'\u001b[0m\u001b[0;34m,\u001b[0m\u001b[0mstandard\u001b[0m\u001b[0;34m,\u001b[0m \u001b[0;34m[\u001b[0m\u001b[0;34m'INDUS'\u001b[0m\u001b[0;34m]\u001b[0m \u001b[0;34m]\u001b[0m\u001b[0;34m,\u001b[0m\u001b[0;34m\u001b[0m\u001b[0;34m\u001b[0m\u001b[0m\n\u001b[1;32m      4\u001b[0m     \u001b[0mremainder\u001b[0m\u001b[0;34m=\u001b[0m\u001b[0;34m'passthrough'\u001b[0m\u001b[0;34m\u001b[0m\u001b[0;34m\u001b[0m\u001b[0m\n\u001b[1;32m      5\u001b[0m )\n",
            "\u001b[0;31mTypeError\u001b[0m: ColumnTransformer.__init__() takes 2 positional arguments but 3 positional arguments (and 1 keyword-only argument) were given"
          ]
        }
      ]
    },
    {
      "cell_type": "markdown",
      "source": [],
      "metadata": {
        "id": "6rDe2PZkjDFT"
      }
    },
    {
      "cell_type": "code",
      "source": [
        "from sklearn.pipeline import Pipeline\n",
        "\n",
        "# Load the data\n",
        "df = pd.read_csv('NPPE1_Preprocessing1.csv')\n",
        "\n",
        "# Replace missing values. changed pd.NA to np.nan\n",
        "df['AGE'] = df['AGE'].replace(-2,np.nan)\n",
        "df['RIVERSIDE'] = df['RIVERSIDE'].replace('UNKNOWN',np.nan)\n",
        "df['RM'] = df['RM'].replace(-1,np.nan)\n",
        "\n",
        "# Split data into training and testing sets\n",
        "xtrain, xtest, ytrain ,ytest = train_test_split(df.drop('PRICE',axis=1),df['PRICE'],test_size=0.3,random_state=0)\n",
        "\n",
        "\n",
        "# Define individual transformers\n",
        "min_max = MinMaxScaler()\n",
        "standard = StandardScaler()\n",
        "one_hot = OneHotEncoder(handle_unknown='ignore') #handle unknown is added so that one hot encoding can be applied to test data.\n",
        "median = SimpleImputer(strategy='median')\n",
        "mean = SimpleImputer(strategy='mean')\n",
        "mode = SimpleImputer(strategy='most_frequent')\n",
        "\n",
        "#Create a pipeline for each column requiring both imputation and transforming\n",
        "riverside_pipeline = Pipeline(steps=[\n",
        "    ('imputer', mode),\n",
        "    ('onehot', one_hot)\n",
        "])\n",
        "\n",
        "age_pipeline = Pipeline(steps=[\n",
        "    ('imputer', mean),\n",
        "    ('minmax', min_max)\n",
        "])\n",
        "\n",
        "rm_pipeline = Pipeline(steps=[\n",
        "    ('imputer', median),\n",
        "    ('minmax', min_max)\n",
        "])\n",
        "\n",
        "# Define the ColumnTransformer with the correct list of tuples and pipelines\n",
        "transformer = ColumnTransformer(\n",
        "    transformers=[\n",
        "        ('riverside', riverside_pipeline, ['RIVERSIDE']), # Impute then one hot encode\n",
        "        ('age', age_pipeline, ['AGE']), #Impute then MinMaxScale\n",
        "        ('rm', rm_pipeline, ['RM']), #Impute then MinMaxScale\n",
        "        ('minmax', min_max, ['CRIM','ZN','DIS','POLINDEX','HIGHWAYCOUNT','TAX','PTRATIO','IMM','BPL']), #MinMaxScale\n",
        "        ('standard', standard, ['INDUS']) #Standard Scale\n",
        "    ],\n",
        "    remainder='passthrough', #passthrough any non-specified columns.\n",
        "    verbose_feature_names_out = False #prevent long column names\n",
        ")\n",
        "\n",
        "# Fit and transform the training data\n",
        "xtrain = transformer.fit_transform(xtrain)\n",
        "\n",
        "# Transform the testing data\n",
        "xtest = transformer.transform(xtest)\n",
        "\n",
        "#Print the shape of the test and train data.\n",
        "print(xtest.shape)\n",
        "print(xtrain.shape)"
      ],
      "metadata": {
        "colab": {
          "base_uri": "https://localhost:8080/"
        },
        "id": "7BznzGZPmnIN",
        "outputId": "3984316b-cecf-41e2-9f47-4c28e8f7a8bf"
      },
      "execution_count": 96,
      "outputs": [
        {
          "output_type": "stream",
          "name": "stdout",
          "text": [
            "(1200, 14)\n",
            "(2800, 14)\n"
          ]
        }
      ]
    },
    {
      "cell_type": "code",
      "source": [
        "xtest.mean()"
      ],
      "metadata": {
        "colab": {
          "base_uri": "https://localhost:8080/"
        },
        "id": "grD7-ls7msQg",
        "outputId": "934dfeac-46b4-42f7-95ea-03229657e155"
      },
      "execution_count": 97,
      "outputs": [
        {
          "output_type": "execute_result",
          "data": {
            "text/plain": [
              "0.3861745655097562"
            ]
          },
          "metadata": {},
          "execution_count": 97
        }
      ]
    }
  ]
}